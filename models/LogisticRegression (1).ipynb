{
 "cells": [
  {
   "cell_type": "code",
   "execution_count": 1,
   "metadata": {},
   "outputs": [],
   "source": [
    "import pandas as pd\n",
    "import numpy as np\n",
    "from sklearn.feature_selection import SelectKBest\n",
    "from sklearn.feature_selection import chi2\n",
    "data = pd.read_csv(\"/Volumes/GoogleDrive/共享云端硬盘/Predictive Analytics Project/train.csv\")"
   ]
  },
  {
   "cell_type": "code",
   "execution_count": 2,
   "metadata": {},
   "outputs": [],
   "source": [
    "%matplotlib inline\n",
    "# import necessary libraries and specify that graphs should be plotted inline. \n",
    "import numpy as np\n",
    "import pandas as pd\n",
    "import matplotlib.pyplot as plt\n",
    "from sklearn import tree, neighbors, datasets, metrics, svm\n",
    "from sklearn.model_selection import cross_val_score, train_test_split, GridSearchCV \n",
    "from sklearn.metrics import classification_report, confusion_matrix, accuracy_score, roc_curve, auc, roc_auc_score\n",
    "from sklearn.preprocessing import StandardScaler\n",
    "from sklearn.neighbors import KNeighborsClassifier\n",
    "from sklearn import linear_model\n",
    "from sklearn.linear_model import LogisticRegression\n",
    "from sklearn.naive_bayes import GaussianNB\n",
    "from sklearn.svm import SVC\n",
    "import scikitplot as skplt"
   ]
  },
  {
   "cell_type": "code",
   "execution_count": 3,
   "metadata": {},
   "outputs": [],
   "source": [
    "data=data.drop(['Unnamed: 0','Unnamed: 0.1','SK_ID_CURR','set_x','set_y'], axis=1)"
   ]
  },
  {
   "cell_type": "code",
   "execution_count": 4,
   "metadata": {},
   "outputs": [],
   "source": [
    "datacount=data.count()"
   ]
  },
  {
   "cell_type": "code",
   "execution_count": 5,
   "metadata": {},
   "outputs": [],
   "source": [
    "data=data.drop(list(datacount[datacount<300000].index),axis=1)"
   ]
  },
  {
   "cell_type": "code",
   "execution_count": 6,
   "metadata": {},
   "outputs": [],
   "source": [
    "data=data.fillna(data.mean())"
   ]
  },
  {
   "cell_type": "code",
   "execution_count": 7,
   "metadata": {},
   "outputs": [],
   "source": [
    "data=data[(data['TARGET']==0) | (data['TARGET']==1)]"
   ]
  },
  {
   "cell_type": "code",
   "execution_count": 8,
   "metadata": {},
   "outputs": [],
   "source": [
    "from sklearn import preprocessing\n",
    "min_max_scaler = preprocessing.MinMaxScaler()\n",
    "x_scaled = min_max_scaler.fit_transform(data)\n",
    "df = pd.DataFrame(x_scaled)"
   ]
  },
  {
   "cell_type": "code",
   "execution_count": 9,
   "metadata": {},
   "outputs": [],
   "source": [
    "normalized_df=(data-data.mean())/data.std()"
   ]
  },
  {
   "cell_type": "code",
   "execution_count": 10,
   "metadata": {},
   "outputs": [],
   "source": [
    "df.columns=[list(data.columns)]"
   ]
  },
  {
   "cell_type": "code",
   "execution_count": 11,
   "metadata": {
    "scrolled": false
   },
   "outputs": [
    {
     "name": "stderr",
     "output_type": "stream",
     "text": [
      "/Users/fbzhan/anaconda3/lib/python3.7/site-packages/pandas/core/generic.py:3812: PerformanceWarning: dropping on a non-lexsorted multi-index without a level parameter may impact performance.\n",
      "  new_axis = axis.drop(labels, errors=errors)\n"
     ]
    }
   ],
   "source": [
    "train_x = df.drop(['TARGET'], axis=1)\n",
    "train_y = data['TARGET']    #target column i.e price range"
   ]
  },
  {
   "cell_type": "code",
   "execution_count": 12,
   "metadata": {},
   "outputs": [],
   "source": [
    "Best = SelectKBest(score_func=chi2,k=2).fit(train_x, train_y)"
   ]
  },
  {
   "cell_type": "code",
   "execution_count": 13,
   "metadata": {},
   "outputs": [],
   "source": [
    "bestscores = pd.DataFrame(Best.scores_,index=train_x.columns)"
   ]
  },
  {
   "cell_type": "code",
   "execution_count": 14,
   "metadata": {},
   "outputs": [],
   "source": [
    "bestscores=bestscores.sort_values(by=0,ascending=False)"
   ]
  },
  {
   "cell_type": "code",
   "execution_count": 15,
   "metadata": {},
   "outputs": [],
   "source": [
    "bestscores600=bestscores[bestscores.values>1]"
   ]
  },
  {
   "cell_type": "code",
   "execution_count": 16,
   "metadata": {},
   "outputs": [
    {
     "name": "stderr",
     "output_type": "stream",
     "text": [
      "/Users/fbzhan/anaconda3/lib/python3.7/site-packages/sklearn/ensemble/forest.py:245: FutureWarning: The default value of n_estimators will change from 10 in version 0.20 to 100 in 0.22.\n",
      "  \"10 in version 0.20 to 100 in 0.22.\", FutureWarning)\n"
     ]
    },
    {
     "data": {
      "text/plain": [
       "ExtraTreesClassifier(bootstrap=False, class_weight=None, criterion='gini',\n",
       "                     max_depth=None, max_features='auto', max_leaf_nodes=None,\n",
       "                     min_impurity_decrease=0.0, min_impurity_split=None,\n",
       "                     min_samples_leaf=1, min_samples_split=2,\n",
       "                     min_weight_fraction_leaf=0.0, n_estimators=10, n_jobs=None,\n",
       "                     oob_score=False, random_state=None, verbose=0,\n",
       "                     warm_start=False)"
      ]
     },
     "execution_count": 16,
     "metadata": {},
     "output_type": "execute_result"
    }
   ],
   "source": [
    "from sklearn.ensemble import ExtraTreesClassifier\n",
    "model = ExtraTreesClassifier()\n",
    "model.fit(train_x, train_y)"
   ]
  },
  {
   "cell_type": "code",
   "execution_count": 17,
   "metadata": {},
   "outputs": [],
   "source": [
    "importancescores = pd.DataFrame(model.feature_importances_,index=train_x.columns)"
   ]
  },
  {
   "cell_type": "code",
   "execution_count": 18,
   "metadata": {},
   "outputs": [
    {
     "data": {
      "text/plain": [
       "MultiIndex(levels=[['AMT_ANNUITY', 'AMT_CREDIT', 'AMT_GOODS_PRICE', 'AMT_INCOME_TOTAL', 'CNT_CHILDREN', 'CNT_FAM_MEMBERS', 'DAYS_BIRTH', 'DAYS_EMPLOYED', 'DAYS_ID_PUBLISH', 'DAYS_LAST_PHONE_CHANGE', 'DAYS_REGISTRATION', 'DEF_30_CNT_SOCIAL_CIRCLE', 'DEF_60_CNT_SOCIAL_CIRCLE', 'EXT_SOURCE_2', 'FLAG_CONT_MOBILE', 'FLAG_DOCUMENT_10', 'FLAG_DOCUMENT_11', 'FLAG_DOCUMENT_12', 'FLAG_DOCUMENT_13', 'FLAG_DOCUMENT_14', 'FLAG_DOCUMENT_15', 'FLAG_DOCUMENT_16', 'FLAG_DOCUMENT_17', 'FLAG_DOCUMENT_18', 'FLAG_DOCUMENT_19', 'FLAG_DOCUMENT_2', 'FLAG_DOCUMENT_20', 'FLAG_DOCUMENT_21', 'FLAG_DOCUMENT_3', 'FLAG_DOCUMENT_4', 'FLAG_DOCUMENT_5', 'FLAG_DOCUMENT_6', 'FLAG_DOCUMENT_7', 'FLAG_DOCUMENT_8', 'FLAG_DOCUMENT_9', 'FLAG_EMAIL', 'FLAG_EMP_PHONE', 'FLAG_MOBIL', 'FLAG_PHONE', 'FLAG_WORK_PHONE', 'HOUR_APPR_PROCESS_START', 'LIVE_CITY_NOT_WORK_CITY', 'LIVE_REGION_NOT_WORK_REGION', 'OBS_30_CNT_SOCIAL_CIRCLE', 'OBS_60_CNT_SOCIAL_CIRCLE', 'REGION_POPULATION_RELATIVE', 'REGION_RATING_CLIENT', 'REGION_RATING_CLIENT_W_CITY', 'REG_CITY_NOT_LIVE_CITY', 'REG_CITY_NOT_WORK_CITY', 'REG_REGION_NOT_LIVE_REGION', 'REG_REGION_NOT_WORK_REGION', 'TARGET', 'Unnamed: 0.1.1', 'app_CODE_GENDER_F_count', 'app_CODE_GENDER_M_count', 'app_CODE_GENDER_XNA_count', 'app_EMERGENCYSTATE_MODE_No_count', 'app_EMERGENCYSTATE_MODE_Yes_count', 'app_FLAG_OWN_CAR_N_count', 'app_FLAG_OWN_CAR_Y_count', 'app_FLAG_OWN_REALTY_N_count', 'app_FLAG_OWN_REALTY_Y_count', 'app_FONDKAPREMONT_MODE_not specified_count', 'app_FONDKAPREMONT_MODE_org spec account_count', 'app_FONDKAPREMONT_MODE_reg oper account_count', 'app_FONDKAPREMONT_MODE_reg oper spec account_count', 'app_HOUSETYPE_MODE_block of flats_count', 'app_HOUSETYPE_MODE_specific housing_count', 'app_HOUSETYPE_MODE_terraced house_count', 'app_NAME_CONTRACT_TYPE_Cash loans_count', 'app_NAME_CONTRACT_TYPE_Revolving loans_count', 'app_NAME_EDUCATION_TYPE_Academic degree_count', 'app_NAME_EDUCATION_TYPE_Higher education_count', 'app_NAME_EDUCATION_TYPE_Incomplete higher_count', 'app_NAME_EDUCATION_TYPE_Lower secondary_count', 'app_NAME_EDUCATION_TYPE_Secondary / secondary special_count', 'app_NAME_FAMILY_STATUS_Civil marriage_count', 'app_NAME_FAMILY_STATUS_Married_count', 'app_NAME_FAMILY_STATUS_Separated_count', 'app_NAME_FAMILY_STATUS_Single / not married_count', 'app_NAME_FAMILY_STATUS_Unknown_count', 'app_NAME_FAMILY_STATUS_Widow_count', 'app_NAME_HOUSING_TYPE_Co-op apartment_count', 'app_NAME_HOUSING_TYPE_House / apartment_count', 'app_NAME_HOUSING_TYPE_Municipal apartment_count', 'app_NAME_HOUSING_TYPE_Office apartment_count', 'app_NAME_HOUSING_TYPE_Rented apartment_count', 'app_NAME_HOUSING_TYPE_With parents_count', 'app_NAME_INCOME_TYPE_Businessman_count', 'app_NAME_INCOME_TYPE_Commercial associate_count', 'app_NAME_INCOME_TYPE_Maternity leave_count', 'app_NAME_INCOME_TYPE_Pensioner_count', 'app_NAME_INCOME_TYPE_State servant_count', 'app_NAME_INCOME_TYPE_Student_count', 'app_NAME_INCOME_TYPE_Unemployed_count', 'app_NAME_INCOME_TYPE_Working_count', 'app_NAME_TYPE_SUITE_Children_count', 'app_NAME_TYPE_SUITE_Family_count', 'app_NAME_TYPE_SUITE_Group of people_count', 'app_NAME_TYPE_SUITE_Other_A_count', 'app_NAME_TYPE_SUITE_Other_B_count', 'app_NAME_TYPE_SUITE_Spouse, partner_count', 'app_NAME_TYPE_SUITE_Unaccompanied_count', 'app_OCCUPATION_TYPE_Accountants_count', 'app_OCCUPATION_TYPE_Cleaning staff_count', 'app_OCCUPATION_TYPE_Cooking staff_count', 'app_OCCUPATION_TYPE_Core staff_count', 'app_OCCUPATION_TYPE_Drivers_count', 'app_OCCUPATION_TYPE_HR staff_count', 'app_OCCUPATION_TYPE_High skill tech staff_count', 'app_OCCUPATION_TYPE_IT staff_count', 'app_OCCUPATION_TYPE_Laborers_count', 'app_OCCUPATION_TYPE_Low-skill Laborers_count', 'app_OCCUPATION_TYPE_Managers_count', 'app_OCCUPATION_TYPE_Medicine staff_count', 'app_OCCUPATION_TYPE_Private service staff_count', 'app_OCCUPATION_TYPE_Realty agents_count', 'app_OCCUPATION_TYPE_Sales staff_count', 'app_OCCUPATION_TYPE_Secretaries_count', 'app_OCCUPATION_TYPE_Security staff_count', 'app_OCCUPATION_TYPE_Waiters/barmen staff_count', 'app_ORGANIZATION_TYPE_Advertising_count', 'app_ORGANIZATION_TYPE_Agriculture_count', 'app_ORGANIZATION_TYPE_Bank_count', 'app_ORGANIZATION_TYPE_Business Entity Type 1_count', 'app_ORGANIZATION_TYPE_Business Entity Type 2_count', 'app_ORGANIZATION_TYPE_Business Entity Type 3_count', 'app_ORGANIZATION_TYPE_Cleaning_count', 'app_ORGANIZATION_TYPE_Construction_count', 'app_ORGANIZATION_TYPE_Culture_count', 'app_ORGANIZATION_TYPE_Electricity_count', 'app_ORGANIZATION_TYPE_Emergency_count', 'app_ORGANIZATION_TYPE_Government_count', 'app_ORGANIZATION_TYPE_Hotel_count', 'app_ORGANIZATION_TYPE_Housing_count', 'app_ORGANIZATION_TYPE_Industry: type 10_count', 'app_ORGANIZATION_TYPE_Industry: type 11_count', 'app_ORGANIZATION_TYPE_Industry: type 12_count', 'app_ORGANIZATION_TYPE_Industry: type 13_count', 'app_ORGANIZATION_TYPE_Industry: type 1_count', 'app_ORGANIZATION_TYPE_Industry: type 2_count', 'app_ORGANIZATION_TYPE_Industry: type 3_count', 'app_ORGANIZATION_TYPE_Industry: type 4_count', 'app_ORGANIZATION_TYPE_Industry: type 5_count', 'app_ORGANIZATION_TYPE_Industry: type 6_count', 'app_ORGANIZATION_TYPE_Industry: type 7_count', 'app_ORGANIZATION_TYPE_Industry: type 8_count', 'app_ORGANIZATION_TYPE_Industry: type 9_count', 'app_ORGANIZATION_TYPE_Insurance_count', 'app_ORGANIZATION_TYPE_Kindergarten_count', 'app_ORGANIZATION_TYPE_Legal Services_count', 'app_ORGANIZATION_TYPE_Medicine_count', 'app_ORGANIZATION_TYPE_Military_count', 'app_ORGANIZATION_TYPE_Mobile_count', 'app_ORGANIZATION_TYPE_Other_count', 'app_ORGANIZATION_TYPE_Police_count', 'app_ORGANIZATION_TYPE_Postal_count', 'app_ORGANIZATION_TYPE_Realtor_count', 'app_ORGANIZATION_TYPE_Religion_count', 'app_ORGANIZATION_TYPE_Restaurant_count', 'app_ORGANIZATION_TYPE_School_count', 'app_ORGANIZATION_TYPE_Security Ministries_count', 'app_ORGANIZATION_TYPE_Security_count', 'app_ORGANIZATION_TYPE_Self-employed_count', 'app_ORGANIZATION_TYPE_Services_count', 'app_ORGANIZATION_TYPE_Telecom_count', 'app_ORGANIZATION_TYPE_Trade: type 1_count', 'app_ORGANIZATION_TYPE_Trade: type 2_count', 'app_ORGANIZATION_TYPE_Trade: type 3_count', 'app_ORGANIZATION_TYPE_Trade: type 4_count', 'app_ORGANIZATION_TYPE_Trade: type 5_count', 'app_ORGANIZATION_TYPE_Trade: type 6_count', 'app_ORGANIZATION_TYPE_Trade: type 7_count', 'app_ORGANIZATION_TYPE_Transport: type 1_count', 'app_ORGANIZATION_TYPE_Transport: type 2_count', 'app_ORGANIZATION_TYPE_Transport: type 3_count', 'app_ORGANIZATION_TYPE_Transport: type 4_count', 'app_ORGANIZATION_TYPE_University_count', 'app_ORGANIZATION_TYPE_XNA_count', 'app_WALLSMATERIAL_MODE_Block_count', 'app_WALLSMATERIAL_MODE_Mixed_count', 'app_WALLSMATERIAL_MODE_Monolithic_count', 'app_WALLSMATERIAL_MODE_Others_count', 'app_WALLSMATERIAL_MODE_Panel_count', 'app_WALLSMATERIAL_MODE_Stone, brick_count', 'app_WALLSMATERIAL_MODE_Wooden_count', 'app_WEEKDAY_APPR_PROCESS_START_FRIDAY_count', 'app_WEEKDAY_APPR_PROCESS_START_MONDAY_count', 'app_WEEKDAY_APPR_PROCESS_START_SATURDAY_count', 'app_WEEKDAY_APPR_PROCESS_START_SUNDAY_count', 'app_WEEKDAY_APPR_PROCESS_START_THURSDAY_count', 'app_WEEKDAY_APPR_PROCESS_START_TUESDAY_count', 'app_WEEKDAY_APPR_PROCESS_START_WEDNESDAY_count']],\n",
       "           codes=[[13, 6, 8, 53, 10, 9, 40, 3, 0, 45, 1, 2, 7, 43, 44, 5, 4, 38, 192, 193, 187, 11, 191, 39, 61, 62, 188, 127, 103, 78, 12, 112, 189, 65, 46, 47, 164, 185, 98, 80, 77, 67, 57, 96, 184, 28, 84, 41, 35, 90, 118, 49, 76, 190, 155, 79, 48, 59, 60, 73, 107, 114, 126, 88, 108, 102, 129, 173, 85, 51, 66, 133, 110, 33, 42, 180, 177, 152, 125, 120, 74, 106, 93, 82, 87, 161, 186, 169, 31, 55, 105, 142, 150, 63, 115, 75, 70, 64, 113, 71, 104, 54, 137, 30, 97, 123, 135, 50, 163, 148, 101, 160, 175, 176, 157, 181, 86, 58, 121, 116, 23, 21, 140, 183, 146, 168, 68, 153, 143]])"
      ]
     },
     "execution_count": 18,
     "metadata": {},
     "output_type": "execute_result"
    }
   ],
   "source": [
    "importancescores=importancescores.sort_values(by=0,ascending=False)\n",
    "importancescores463=importancescores[importancescores.values>.001]\n",
    "importancescores463.index"
   ]
  },
  {
   "cell_type": "code",
   "execution_count": 19,
   "metadata": {},
   "outputs": [],
   "source": [
    "bestandimportantfeatures=bestscores600.index & importancescores463.index"
   ]
  },
  {
   "cell_type": "code",
   "execution_count": 20,
   "metadata": {},
   "outputs": [
    {
     "name": "stdout",
     "output_type": "stream",
     "text": [
      "110 features\n"
     ]
    },
    {
     "data": {
      "text/plain": [
       "MultiIndex(levels=[['AMT_ANNUITY', 'AMT_CREDIT', 'AMT_GOODS_PRICE', 'CNT_CHILDREN', 'CNT_FAM_MEMBERS', 'DAYS_BIRTH', 'DAYS_EMPLOYED', 'DAYS_ID_PUBLISH', 'DAYS_LAST_PHONE_CHANGE', 'DAYS_REGISTRATION', 'DEF_30_CNT_SOCIAL_CIRCLE', 'DEF_60_CNT_SOCIAL_CIRCLE', 'EXT_SOURCE_2', 'FLAG_DOCUMENT_16', 'FLAG_DOCUMENT_18', 'FLAG_DOCUMENT_3', 'FLAG_DOCUMENT_6', 'FLAG_DOCUMENT_8', 'FLAG_PHONE', 'FLAG_WORK_PHONE', 'HOUR_APPR_PROCESS_START', 'LIVE_CITY_NOT_WORK_CITY', 'LIVE_REGION_NOT_WORK_REGION', 'REGION_POPULATION_RELATIVE', 'REGION_RATING_CLIENT', 'REGION_RATING_CLIENT_W_CITY', 'REG_CITY_NOT_LIVE_CITY', 'REG_CITY_NOT_WORK_CITY', 'REG_REGION_NOT_LIVE_REGION', 'REG_REGION_NOT_WORK_REGION', 'app_CODE_GENDER_F_count', 'app_CODE_GENDER_M_count', 'app_EMERGENCYSTATE_MODE_No_count', 'app_EMERGENCYSTATE_MODE_Yes_count', 'app_FLAG_OWN_CAR_N_count', 'app_FLAG_OWN_CAR_Y_count', 'app_FLAG_OWN_REALTY_N_count', 'app_FLAG_OWN_REALTY_Y_count', 'app_FONDKAPREMONT_MODE_not specified_count', 'app_FONDKAPREMONT_MODE_org spec account_count', 'app_FONDKAPREMONT_MODE_reg oper account_count', 'app_FONDKAPREMONT_MODE_reg oper spec account_count', 'app_HOUSETYPE_MODE_block of flats_count', 'app_HOUSETYPE_MODE_specific housing_count', 'app_NAME_CONTRACT_TYPE_Cash loans_count', 'app_NAME_CONTRACT_TYPE_Revolving loans_count', 'app_NAME_EDUCATION_TYPE_Higher education_count', 'app_NAME_EDUCATION_TYPE_Incomplete higher_count', 'app_NAME_EDUCATION_TYPE_Lower secondary_count', 'app_NAME_EDUCATION_TYPE_Secondary / secondary special_count', 'app_NAME_FAMILY_STATUS_Civil marriage_count', 'app_NAME_FAMILY_STATUS_Married_count', 'app_NAME_FAMILY_STATUS_Single / not married_count', 'app_NAME_FAMILY_STATUS_Widow_count', 'app_NAME_HOUSING_TYPE_House / apartment_count', 'app_NAME_HOUSING_TYPE_Municipal apartment_count', 'app_NAME_HOUSING_TYPE_Office apartment_count', 'app_NAME_HOUSING_TYPE_Rented apartment_count', 'app_NAME_HOUSING_TYPE_With parents_count', 'app_NAME_INCOME_TYPE_Commercial associate_count', 'app_NAME_INCOME_TYPE_State servant_count', 'app_NAME_INCOME_TYPE_Working_count', 'app_NAME_TYPE_SUITE_Children_count', 'app_NAME_TYPE_SUITE_Family_count', 'app_NAME_TYPE_SUITE_Other_B_count', 'app_NAME_TYPE_SUITE_Unaccompanied_count', 'app_OCCUPATION_TYPE_Accountants_count', 'app_OCCUPATION_TYPE_Cleaning staff_count', 'app_OCCUPATION_TYPE_Cooking staff_count', 'app_OCCUPATION_TYPE_Core staff_count', 'app_OCCUPATION_TYPE_Drivers_count', 'app_OCCUPATION_TYPE_High skill tech staff_count', 'app_OCCUPATION_TYPE_Laborers_count', 'app_OCCUPATION_TYPE_Low-skill Laborers_count', 'app_OCCUPATION_TYPE_Managers_count', 'app_OCCUPATION_TYPE_Medicine staff_count', 'app_OCCUPATION_TYPE_Private service staff_count', 'app_OCCUPATION_TYPE_Sales staff_count', 'app_OCCUPATION_TYPE_Security staff_count', 'app_OCCUPATION_TYPE_Waiters/barmen staff_count', 'app_ORGANIZATION_TYPE_Agriculture_count', 'app_ORGANIZATION_TYPE_Business Entity Type 2_count', 'app_ORGANIZATION_TYPE_Business Entity Type 3_count', 'app_ORGANIZATION_TYPE_Construction_count', 'app_ORGANIZATION_TYPE_Government_count', 'app_ORGANIZATION_TYPE_Industry: type 11_count', 'app_ORGANIZATION_TYPE_Industry: type 1_count', 'app_ORGANIZATION_TYPE_Industry: type 3_count', 'app_ORGANIZATION_TYPE_Industry: type 4_count', 'app_ORGANIZATION_TYPE_Industry: type 9_count', 'app_ORGANIZATION_TYPE_Kindergarten_count', 'app_ORGANIZATION_TYPE_Medicine_count', 'app_ORGANIZATION_TYPE_Military_count', 'app_ORGANIZATION_TYPE_Other_count', 'app_ORGANIZATION_TYPE_Restaurant_count', 'app_ORGANIZATION_TYPE_School_count', 'app_ORGANIZATION_TYPE_Security_count', 'app_ORGANIZATION_TYPE_Self-employed_count', 'app_ORGANIZATION_TYPE_Trade: type 2_count', 'app_ORGANIZATION_TYPE_Trade: type 3_count', 'app_ORGANIZATION_TYPE_Trade: type 7_count', 'app_ORGANIZATION_TYPE_Transport: type 3_count', 'app_ORGANIZATION_TYPE_Transport: type 4_count', 'app_WALLSMATERIAL_MODE_Block_count', 'app_WALLSMATERIAL_MODE_Panel_count', 'app_WALLSMATERIAL_MODE_Stone, brick_count', 'app_WALLSMATERIAL_MODE_Wooden_count', 'app_WEEKDAY_APPR_PROCESS_START_MONDAY_count', 'app_WEEKDAY_APPR_PROCESS_START_SATURDAY_count', 'app_WEEKDAY_APPR_PROCESS_START_TUESDAY_count']],\n",
       "           codes=[[0, 54, 103, 56, 50, 39, 3, 100, 34, 70, 87, 80, 69, 63, 58, 59, 11, 1, 37, 19, 62, 18, 25, 38, 30, 102, 47, 14, 2, 68, 26, 83, 7, 107, 44, 57, 106, 23, 75, 12, 64, 17, 16, 88, 55, 31, 91, 109, 20, 27, 89, 105, 77, 49, 96, 93, 4, 98, 90, 86, 6, 108, 79, 46, 101, 73, 76, 8, 48, 74, 97, 78, 95, 67, 5, 43, 40, 92, 84, 24, 81, 72, 13, 53, 60, 15, 94, 66, 22, 85, 29, 99, 35, 104, 71, 45, 10, 42, 28, 41, 61, 65, 33, 9, 52, 82, 51, 32, 21, 36]],\n",
       "           sortorder=0)"
      ]
     },
     "execution_count": 20,
     "metadata": {},
     "output_type": "execute_result"
    }
   ],
   "source": [
    "print(len(bestandimportantfeatures), 'features')\n",
    "bestandimportantfeatures"
   ]
  },
  {
   "cell_type": "code",
   "execution_count": 21,
   "metadata": {},
   "outputs": [],
   "source": [
    "names=[]\n",
    "for x in bestandimportantfeatures.values:\n",
    "    names.append(x[0])"
   ]
  },
  {
   "cell_type": "code",
   "execution_count": 22,
   "metadata": {},
   "outputs": [],
   "source": [
    "x_train = df[names].values"
   ]
  },
  {
   "cell_type": "code",
   "execution_count": 23,
   "metadata": {},
   "outputs": [],
   "source": [
    "y_train = data['TARGET'].values\n",
    "#y_train = pd.DataFrame(y_train)"
   ]
  },
  {
   "cell_type": "markdown",
   "metadata": {},
   "source": [
    "# testing data\n",
    "data1 = pd.read_csv(\"../input/dataset/test.csv\")\n",
    "data1=data1.fillna(data1.mean())\n",
    "\n",
    "from sklearn import preprocessing\n",
    "min_max_scaler = preprocessing.MinMaxScaler()\n",
    "x_scaled1 = min_max_scaler.fit_transform(data1)\n",
    "df1 = pd.DataFrame(x_scaled1)\n",
    "\n",
    "#normalized_df1=(data1-data1.mean())/data1.std()\n",
    "\n",
    "#df1.columns=[list(data1.columns)]\n",
    "#x_test = df1[names].values"
   ]
  },
  {
   "cell_type": "code",
   "execution_count": 24,
   "metadata": {},
   "outputs": [],
   "source": [
    "from scipy.stats import uniform\n",
    "from sklearn.model_selection import RandomizedSearchCV\n",
    "from sklearn.metrics import roc_auc_score\n",
    "from sklearn.model_selection import StratifiedKFold\n",
    "from sklearn.linear_model import LogisticRegression "
   ]
  },
  {
   "cell_type": "code",
   "execution_count": null,
   "metadata": {},
   "outputs": [],
   "source": [
    "# Create logistic regression\n",
    "logistic = LogisticRegression()"
   ]
  },
  {
   "cell_type": "code",
   "execution_count": null,
   "metadata": {},
   "outputs": [],
   "source": [
    "# Create regularization penalty space\n",
    "penalty = ['l1', 'l2']\n",
    "\n",
    "# Create regularization hyperparameter distribution using uniform distribution\n",
    "C = uniform(loc=0, scale=4)\n",
    "\n",
    "# Create hyperparameter options\n",
    "hyperparameters = dict(C=C, penalty=penalty)"
   ]
  },
  {
   "cell_type": "code",
   "execution_count": null,
   "metadata": {},
   "outputs": [],
   "source": [
    "# Create randomized search 5-fold cross validation and 100 iterations\n",
    "clf = RandomizedSearchCV(logistic, hyperparameters, random_state=1, n_iter=20, cv=5, verbose=0, n_jobs=-1)"
   ]
  },
  {
   "cell_type": "code",
   "execution_count": null,
   "metadata": {},
   "outputs": [],
   "source": [
    "# Fit randomized search\n",
    "best_model = clf.fit(x_train, y_train)"
   ]
  },
  {
   "cell_type": "code",
   "execution_count": null,
   "metadata": {},
   "outputs": [],
   "source": [
    "# View best hyperparameters\n",
    "print('Best Penalty:', best_model.best_estimator_.get_params()['penalty'])\n",
    "print('Best C:', best_model.best_estimator_.get_params()['C'])"
   ]
  },
  {
   "cell_type": "code",
   "execution_count": 25,
   "metadata": {},
   "outputs": [
    {
     "name": "stderr",
     "output_type": "stream",
     "text": [
      "/Users/fbzhan/anaconda3/lib/python3.7/site-packages/sklearn/linear_model/logistic.py:432: FutureWarning: Default solver will be changed to 'lbfgs' in 0.22. Specify a solver to silence this warning.\n",
      "  FutureWarning)\n"
     ]
    },
    {
     "data": {
      "text/plain": [
       "LogisticRegression(C=0.0001, class_weight=None, dual=False, fit_intercept=True,\n",
       "                   intercept_scaling=1, l1_ratio=None, max_iter=100,\n",
       "                   multi_class='warn', n_jobs=None, penalty='l2',\n",
       "                   random_state=None, solver='warn', tol=0.0001, verbose=0,\n",
       "                   warm_start=False)"
      ]
     },
     "execution_count": 25,
     "metadata": {},
     "output_type": "execute_result"
    }
   ],
   "source": [
    "lr = linear_model.LogisticRegression(C=0.0001, penalty = 'L2')\n",
    "lr.fit(x_train, y_train)"
   ]
  },
  {
   "cell_type": "code",
   "execution_count": 26,
   "metadata": {},
   "outputs": [],
   "source": [
    "def evaluate_model(ytest, ypred, ypred_proba = None):\n",
    "    if ypred_proba is not None:\n",
    "        print('ROC-AUC score of the model:   {}'.format(roc_auc_score(ytest, ypred_proba[:, 1])))\n",
    "    print('Accuracy of the model: {}\\n'.format(accuracy_score(ytest, ypred)))\n",
    "    print('Classification report: \\n{}\\n'.format(classification_report(ytest, ypred)))\n",
    "    print('Confusion matrix: \\n{}\\n'.format(confusion_matrix(ytest, ypred)))"
   ]
  },
  {
   "cell_type": "code",
   "execution_count": 29,
   "metadata": {},
   "outputs": [
    {
     "name": "stderr",
     "output_type": "stream",
     "text": [
      "/Users/fbzhan/anaconda3/lib/python3.7/site-packages/sklearn/linear_model/logistic.py:432: FutureWarning: Default solver will be changed to 'lbfgs' in 0.22. Specify a solver to silence this warning.\n",
      "  FutureWarning)\n"
     ]
    },
    {
     "name": "stdout",
     "output_type": "stream",
     "text": [
      "\n",
      "cv: 0\n",
      "\n",
      "ROC-AUC score of the model:   0.6275891243162479\n",
      "Accuracy of the model: 0.9192572840790842\n",
      "\n",
      "Classification report: \n",
      "              precision    recall  f1-score   support\n",
      "\n",
      "         0.0       0.92      1.00      0.96     28269\n",
      "         1.0       0.00      0.00      0.00      2483\n",
      "\n",
      "    accuracy                           0.92     30752\n",
      "   macro avg       0.46      0.50      0.48     30752\n",
      "weighted avg       0.85      0.92      0.88     30752\n",
      "\n",
      "\n",
      "Confusion matrix: \n",
      "[[28269     0]\n",
      " [ 2483     0]]\n",
      "\n"
     ]
    },
    {
     "name": "stderr",
     "output_type": "stream",
     "text": [
      "/Users/fbzhan/anaconda3/lib/python3.7/site-packages/sklearn/metrics/classification.py:1437: UndefinedMetricWarning: Precision and F-score are ill-defined and being set to 0.0 in labels with no predicted samples.\n",
      "  'precision', 'predicted', average, warn_for)\n",
      "/Users/fbzhan/anaconda3/lib/python3.7/site-packages/sklearn/linear_model/logistic.py:432: FutureWarning: Default solver will be changed to 'lbfgs' in 0.22. Specify a solver to silence this warning.\n",
      "  FutureWarning)\n"
     ]
    },
    {
     "name": "stdout",
     "output_type": "stream",
     "text": [
      "\n",
      "cv: 1\n",
      "\n",
      "ROC-AUC score of the model:   0.634638581727497\n",
      "Accuracy of the model: 0.9192572840790842\n",
      "\n",
      "Classification report: \n",
      "              precision    recall  f1-score   support\n",
      "\n",
      "         0.0       0.92      1.00      0.96     28269\n",
      "         1.0       0.00      0.00      0.00      2483\n",
      "\n",
      "    accuracy                           0.92     30752\n",
      "   macro avg       0.46      0.50      0.48     30752\n",
      "weighted avg       0.85      0.92      0.88     30752\n",
      "\n",
      "\n",
      "Confusion matrix: \n",
      "[[28269     0]\n",
      " [ 2483     0]]\n",
      "\n"
     ]
    },
    {
     "name": "stderr",
     "output_type": "stream",
     "text": [
      "/Users/fbzhan/anaconda3/lib/python3.7/site-packages/sklearn/metrics/classification.py:1437: UndefinedMetricWarning: Precision and F-score are ill-defined and being set to 0.0 in labels with no predicted samples.\n",
      "  'precision', 'predicted', average, warn_for)\n",
      "/Users/fbzhan/anaconda3/lib/python3.7/site-packages/sklearn/linear_model/logistic.py:432: FutureWarning: Default solver will be changed to 'lbfgs' in 0.22. Specify a solver to silence this warning.\n",
      "  FutureWarning)\n"
     ]
    },
    {
     "name": "stdout",
     "output_type": "stream",
     "text": [
      "\n",
      "cv: 2\n",
      "\n",
      "ROC-AUC score of the model:   0.6290197161847402\n",
      "Accuracy of the model: 0.9192572840790842\n",
      "\n",
      "Classification report: \n",
      "              precision    recall  f1-score   support\n",
      "\n",
      "         0.0       0.92      1.00      0.96     28269\n",
      "         1.0       0.00      0.00      0.00      2483\n",
      "\n",
      "    accuracy                           0.92     30752\n",
      "   macro avg       0.46      0.50      0.48     30752\n",
      "weighted avg       0.85      0.92      0.88     30752\n",
      "\n",
      "\n",
      "Confusion matrix: \n",
      "[[28269     0]\n",
      " [ 2483     0]]\n",
      "\n"
     ]
    },
    {
     "name": "stderr",
     "output_type": "stream",
     "text": [
      "/Users/fbzhan/anaconda3/lib/python3.7/site-packages/sklearn/metrics/classification.py:1437: UndefinedMetricWarning: Precision and F-score are ill-defined and being set to 0.0 in labels with no predicted samples.\n",
      "  'precision', 'predicted', average, warn_for)\n",
      "/Users/fbzhan/anaconda3/lib/python3.7/site-packages/sklearn/linear_model/logistic.py:432: FutureWarning: Default solver will be changed to 'lbfgs' in 0.22. Specify a solver to silence this warning.\n",
      "  FutureWarning)\n"
     ]
    },
    {
     "name": "stdout",
     "output_type": "stream",
     "text": [
      "\n",
      "cv: 3\n",
      "\n",
      "ROC-AUC score of the model:   0.6250750317768025\n",
      "Accuracy of the model: 0.9192572840790842\n",
      "\n",
      "Classification report: \n",
      "              precision    recall  f1-score   support\n",
      "\n",
      "         0.0       0.92      1.00      0.96     28269\n",
      "         1.0       0.00      0.00      0.00      2483\n",
      "\n",
      "    accuracy                           0.92     30752\n",
      "   macro avg       0.46      0.50      0.48     30752\n",
      "weighted avg       0.85      0.92      0.88     30752\n",
      "\n",
      "\n",
      "Confusion matrix: \n",
      "[[28269     0]\n",
      " [ 2483     0]]\n",
      "\n"
     ]
    },
    {
     "name": "stderr",
     "output_type": "stream",
     "text": [
      "/Users/fbzhan/anaconda3/lib/python3.7/site-packages/sklearn/metrics/classification.py:1437: UndefinedMetricWarning: Precision and F-score are ill-defined and being set to 0.0 in labels with no predicted samples.\n",
      "  'precision', 'predicted', average, warn_for)\n",
      "/Users/fbzhan/anaconda3/lib/python3.7/site-packages/sklearn/linear_model/logistic.py:432: FutureWarning: Default solver will be changed to 'lbfgs' in 0.22. Specify a solver to silence this warning.\n",
      "  FutureWarning)\n"
     ]
    },
    {
     "name": "stdout",
     "output_type": "stream",
     "text": [
      "\n",
      "cv: 4\n",
      "\n",
      "ROC-AUC score of the model:   0.6243422979397616\n",
      "Accuracy of the model: 0.9192572840790842\n",
      "\n",
      "Classification report: \n",
      "              precision    recall  f1-score   support\n",
      "\n",
      "         0.0       0.92      1.00      0.96     28269\n",
      "         1.0       0.00      0.00      0.00      2483\n",
      "\n",
      "    accuracy                           0.92     30752\n",
      "   macro avg       0.46      0.50      0.48     30752\n",
      "weighted avg       0.85      0.92      0.88     30752\n",
      "\n",
      "\n",
      "Confusion matrix: \n",
      "[[28269     0]\n",
      " [ 2483     0]]\n",
      "\n"
     ]
    },
    {
     "name": "stderr",
     "output_type": "stream",
     "text": [
      "/Users/fbzhan/anaconda3/lib/python3.7/site-packages/sklearn/metrics/classification.py:1437: UndefinedMetricWarning: Precision and F-score are ill-defined and being set to 0.0 in labels with no predicted samples.\n",
      "  'precision', 'predicted', average, warn_for)\n",
      "/Users/fbzhan/anaconda3/lib/python3.7/site-packages/sklearn/linear_model/logistic.py:432: FutureWarning: Default solver will be changed to 'lbfgs' in 0.22. Specify a solver to silence this warning.\n",
      "  FutureWarning)\n"
     ]
    },
    {
     "name": "stdout",
     "output_type": "stream",
     "text": [
      "\n",
      "cv: 5\n",
      "\n",
      "ROC-AUC score of the model:   0.6170715614627733\n",
      "Accuracy of the model: 0.9192871776527592\n",
      "\n",
      "Classification report: \n",
      "              precision    recall  f1-score   support\n",
      "\n",
      "         0.0       0.92      1.00      0.96     28269\n",
      "         1.0       0.00      0.00      0.00      2482\n",
      "\n",
      "    accuracy                           0.92     30751\n",
      "   macro avg       0.46      0.50      0.48     30751\n",
      "weighted avg       0.85      0.92      0.88     30751\n",
      "\n",
      "\n",
      "Confusion matrix: \n",
      "[[28269     0]\n",
      " [ 2482     0]]\n",
      "\n"
     ]
    },
    {
     "name": "stderr",
     "output_type": "stream",
     "text": [
      "/Users/fbzhan/anaconda3/lib/python3.7/site-packages/sklearn/metrics/classification.py:1437: UndefinedMetricWarning: Precision and F-score are ill-defined and being set to 0.0 in labels with no predicted samples.\n",
      "  'precision', 'predicted', average, warn_for)\n",
      "/Users/fbzhan/anaconda3/lib/python3.7/site-packages/sklearn/linear_model/logistic.py:432: FutureWarning: Default solver will be changed to 'lbfgs' in 0.22. Specify a solver to silence this warning.\n",
      "  FutureWarning)\n"
     ]
    },
    {
     "name": "stdout",
     "output_type": "stream",
     "text": [
      "\n",
      "cv: 6\n",
      "\n",
      "ROC-AUC score of the model:   0.6304582608478513\n",
      "Accuracy of the model: 0.9192845528455285\n",
      "\n",
      "Classification report: \n",
      "              precision    recall  f1-score   support\n",
      "\n",
      "         0.0       0.92      1.00      0.96     28268\n",
      "         1.0       0.00      0.00      0.00      2482\n",
      "\n",
      "    accuracy                           0.92     30750\n",
      "   macro avg       0.46      0.50      0.48     30750\n",
      "weighted avg       0.85      0.92      0.88     30750\n",
      "\n",
      "\n",
      "Confusion matrix: \n",
      "[[28268     0]\n",
      " [ 2482     0]]\n",
      "\n"
     ]
    },
    {
     "name": "stderr",
     "output_type": "stream",
     "text": [
      "/Users/fbzhan/anaconda3/lib/python3.7/site-packages/sklearn/metrics/classification.py:1437: UndefinedMetricWarning: Precision and F-score are ill-defined and being set to 0.0 in labels with no predicted samples.\n",
      "  'precision', 'predicted', average, warn_for)\n",
      "/Users/fbzhan/anaconda3/lib/python3.7/site-packages/sklearn/linear_model/logistic.py:432: FutureWarning: Default solver will be changed to 'lbfgs' in 0.22. Specify a solver to silence this warning.\n",
      "  FutureWarning)\n"
     ]
    },
    {
     "name": "stdout",
     "output_type": "stream",
     "text": [
      "\n",
      "cv: 7\n",
      "\n",
      "ROC-AUC score of the model:   0.6366859785816589\n",
      "Accuracy of the model: 0.9192845528455285\n",
      "\n",
      "Classification report: \n",
      "              precision    recall  f1-score   support\n",
      "\n",
      "         0.0       0.92      1.00      0.96     28268\n",
      "         1.0       0.00      0.00      0.00      2482\n",
      "\n",
      "    accuracy                           0.92     30750\n",
      "   macro avg       0.46      0.50      0.48     30750\n",
      "weighted avg       0.85      0.92      0.88     30750\n",
      "\n",
      "\n",
      "Confusion matrix: \n",
      "[[28268     0]\n",
      " [ 2482     0]]\n",
      "\n"
     ]
    },
    {
     "name": "stderr",
     "output_type": "stream",
     "text": [
      "/Users/fbzhan/anaconda3/lib/python3.7/site-packages/sklearn/metrics/classification.py:1437: UndefinedMetricWarning: Precision and F-score are ill-defined and being set to 0.0 in labels with no predicted samples.\n",
      "  'precision', 'predicted', average, warn_for)\n",
      "/Users/fbzhan/anaconda3/lib/python3.7/site-packages/sklearn/linear_model/logistic.py:432: FutureWarning: Default solver will be changed to 'lbfgs' in 0.22. Specify a solver to silence this warning.\n",
      "  FutureWarning)\n"
     ]
    },
    {
     "name": "stdout",
     "output_type": "stream",
     "text": [
      "\n",
      "cv: 8\n",
      "\n",
      "ROC-AUC score of the model:   0.6333069303171316\n",
      "Accuracy of the model: 0.9192845528455285\n",
      "\n",
      "Classification report: \n",
      "              precision    recall  f1-score   support\n",
      "\n",
      "         0.0       0.92      1.00      0.96     28268\n",
      "         1.0       0.00      0.00      0.00      2482\n",
      "\n",
      "    accuracy                           0.92     30750\n",
      "   macro avg       0.46      0.50      0.48     30750\n",
      "weighted avg       0.85      0.92      0.88     30750\n",
      "\n",
      "\n",
      "Confusion matrix: \n",
      "[[28268     0]\n",
      " [ 2482     0]]\n",
      "\n"
     ]
    },
    {
     "name": "stderr",
     "output_type": "stream",
     "text": [
      "/Users/fbzhan/anaconda3/lib/python3.7/site-packages/sklearn/metrics/classification.py:1437: UndefinedMetricWarning: Precision and F-score are ill-defined and being set to 0.0 in labels with no predicted samples.\n",
      "  'precision', 'predicted', average, warn_for)\n",
      "/Users/fbzhan/anaconda3/lib/python3.7/site-packages/sklearn/linear_model/logistic.py:432: FutureWarning: Default solver will be changed to 'lbfgs' in 0.22. Specify a solver to silence this warning.\n",
      "  FutureWarning)\n"
     ]
    },
    {
     "name": "stdout",
     "output_type": "stream",
     "text": [
      "\n",
      "cv: 9\n",
      "\n",
      "ROC-AUC score of the model:   0.6256988480352724\n",
      "Accuracy of the model: 0.9192845528455285\n",
      "\n",
      "Classification report: \n",
      "              precision    recall  f1-score   support\n",
      "\n",
      "         0.0       0.92      1.00      0.96     28268\n",
      "         1.0       0.00      0.00      0.00      2482\n",
      "\n",
      "    accuracy                           0.92     30750\n",
      "   macro avg       0.46      0.50      0.48     30750\n",
      "weighted avg       0.85      0.92      0.88     30750\n",
      "\n",
      "\n",
      "Confusion matrix: \n",
      "[[28268     0]\n",
      " [ 2482     0]]\n",
      "\n"
     ]
    },
    {
     "name": "stderr",
     "output_type": "stream",
     "text": [
      "/Users/fbzhan/anaconda3/lib/python3.7/site-packages/sklearn/metrics/classification.py:1437: UndefinedMetricWarning: Precision and F-score are ill-defined and being set to 0.0 in labels with no predicted samples.\n",
      "  'precision', 'predicted', average, warn_for)\n"
     ]
    }
   ],
   "source": [
    "folds = list(StratifiedKFold(10, shuffle=True).split(x_train, y_train))\n",
    "for i, (train_idx, valid_idx) in enumerate(folds):\n",
    "    \n",
    "    ytrain = np.array(y_train)\n",
    "    X_train = x_train[train_idx]\n",
    "    Y_train = ytrain[train_idx]\n",
    "    X_valid = x_train[valid_idx]\n",
    "    Y_valid = ytrain[valid_idx]\n",
    "    \n",
    "    lr.fit(X_train, Y_train)\n",
    "    pred = lr.predict(X_valid)\n",
    "    pred_proba = lr.predict_proba(X_valid)\n",
    "    \n",
    "    print('\\ncv: {}\\n'.format(i))\n",
    "    evaluate_model(Y_valid, pred, pred_proba)"
   ]
  },
  {
   "cell_type": "code",
   "execution_count": null,
   "metadata": {},
   "outputs": [],
   "source": []
  }
 ],
 "metadata": {
  "kernelspec": {
   "display_name": "Python 3",
   "language": "python",
   "name": "python3"
  },
  "language_info": {
   "codemirror_mode": {
    "name": "ipython",
    "version": 3
   },
   "file_extension": ".py",
   "mimetype": "text/x-python",
   "name": "python",
   "nbconvert_exporter": "python",
   "pygments_lexer": "ipython3",
   "version": "3.7.3"
  }
 },
 "nbformat": 4,
 "nbformat_minor": 1
}
