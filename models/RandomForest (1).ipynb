{
 "cells": [
  {
   "cell_type": "code",
   "execution_count": 1,
   "metadata": {},
   "outputs": [],
   "source": [
    "import pandas as pd\n",
    "import numpy as np\n",
    "from sklearn.feature_selection import SelectKBest\n",
    "from sklearn.feature_selection import chi2\n",
    "data = pd.read_csv(\"/Volumes/GoogleDrive/共享云端硬盘/Predictive Analytics Project/train.csv\")"
   ]
  },
  {
   "cell_type": "code",
   "execution_count": 17,
   "metadata": {},
   "outputs": [],
   "source": [
    "%matplotlib inline\n",
    "# import necessary libraries and specify that graphs should be plotted inline. \n",
    "import numpy as np\n",
    "import pandas as pd\n",
    "import matplotlib.pyplot as plt\n",
    "from sklearn import tree, neighbors, datasets, metrics, svm\n",
    "from sklearn.model_selection import cross_val_score, train_test_split, GridSearchCV \n",
    "from sklearn.metrics import classification_report, confusion_matrix, accuracy_score, roc_curve, auc, roc_auc_score\n",
    "from sklearn.preprocessing import StandardScaler\n",
    "from sklearn.neighbors import KNeighborsClassifier\n",
    "from sklearn import linear_model\n",
    "from sklearn.linear_model import LogisticRegression\n",
    "from sklearn.naive_bayes import GaussianNB\n",
    "from sklearn.svm import SVC\n",
    "import scikitplot as skplt\n",
    "\n",
    "from sklearn.ensemble import RandomForestClassifier\n",
    "from sklearn.model_selection import StratifiedKFold"
   ]
  },
  {
   "cell_type": "code",
   "execution_count": 3,
   "metadata": {},
   "outputs": [],
   "source": [
    "data=data.drop(['Unnamed: 0','Unnamed: 0.1','SK_ID_CURR','set_x','set_y'], axis=1)\n",
    "datacount=data.count()\n",
    "data=data.drop(list(datacount[datacount<300000].index),axis=1)\n",
    "data=data.fillna(data.mean())\n",
    "data=data[(data['TARGET']==0) | (data['TARGET']==1)]"
   ]
  },
  {
   "cell_type": "code",
   "execution_count": 4,
   "metadata": {},
   "outputs": [],
   "source": [
    "from sklearn import preprocessing\n",
    "min_max_scaler = preprocessing.MinMaxScaler()\n",
    "x_scaled = min_max_scaler.fit_transform(data)\n",
    "df = pd.DataFrame(x_scaled)"
   ]
  },
  {
   "cell_type": "code",
   "execution_count": 5,
   "metadata": {},
   "outputs": [],
   "source": [
    "normalized_df=(data-data.mean())/data.std()\n",
    "\n",
    "df.columns=[list(data.columns)]"
   ]
  },
  {
   "cell_type": "code",
   "execution_count": 6,
   "metadata": {},
   "outputs": [
    {
     "name": "stderr",
     "output_type": "stream",
     "text": [
      "/Users/fbzhan/anaconda3/lib/python3.7/site-packages/pandas/core/generic.py:3812: PerformanceWarning: dropping on a non-lexsorted multi-index without a level parameter may impact performance.\n",
      "  new_axis = axis.drop(labels, errors=errors)\n"
     ]
    }
   ],
   "source": [
    "train_x = df.drop(['TARGET'], axis=1)\n",
    "train_y = data['TARGET']    #target column i.e price range"
   ]
  },
  {
   "cell_type": "code",
   "execution_count": 7,
   "metadata": {},
   "outputs": [],
   "source": [
    "Best = SelectKBest(score_func=chi2,k=2).fit(train_x, train_y)\n",
    "bestscores = pd.DataFrame(Best.scores_,index=train_x.columns)\n",
    "bestscores=bestscores.sort_values(by=0,ascending=False)\n",
    "bestscores600=bestscores[bestscores.values>1]"
   ]
  },
  {
   "cell_type": "code",
   "execution_count": 8,
   "metadata": {},
   "outputs": [
    {
     "name": "stderr",
     "output_type": "stream",
     "text": [
      "/Users/fbzhan/anaconda3/lib/python3.7/site-packages/sklearn/ensemble/forest.py:245: FutureWarning: The default value of n_estimators will change from 10 in version 0.20 to 100 in 0.22.\n",
      "  \"10 in version 0.20 to 100 in 0.22.\", FutureWarning)\n"
     ]
    },
    {
     "data": {
      "text/plain": [
       "ExtraTreesClassifier(bootstrap=False, class_weight=None, criterion='gini',\n",
       "                     max_depth=None, max_features='auto', max_leaf_nodes=None,\n",
       "                     min_impurity_decrease=0.0, min_impurity_split=None,\n",
       "                     min_samples_leaf=1, min_samples_split=2,\n",
       "                     min_weight_fraction_leaf=0.0, n_estimators=10, n_jobs=None,\n",
       "                     oob_score=False, random_state=None, verbose=0,\n",
       "                     warm_start=False)"
      ]
     },
     "execution_count": 8,
     "metadata": {},
     "output_type": "execute_result"
    }
   ],
   "source": [
    "from sklearn.ensemble import ExtraTreesClassifier\n",
    "model = ExtraTreesClassifier()\n",
    "model.fit(train_x, train_y)"
   ]
  },
  {
   "cell_type": "code",
   "execution_count": 9,
   "metadata": {},
   "outputs": [
    {
     "data": {
      "text/plain": [
       "MultiIndex(levels=[['AMT_ANNUITY', 'AMT_CREDIT', 'AMT_GOODS_PRICE', 'AMT_INCOME_TOTAL', 'CNT_CHILDREN', 'CNT_FAM_MEMBERS', 'DAYS_BIRTH', 'DAYS_EMPLOYED', 'DAYS_ID_PUBLISH', 'DAYS_LAST_PHONE_CHANGE', 'DAYS_REGISTRATION', 'DEF_30_CNT_SOCIAL_CIRCLE', 'DEF_60_CNT_SOCIAL_CIRCLE', 'EXT_SOURCE_2', 'FLAG_CONT_MOBILE', 'FLAG_DOCUMENT_10', 'FLAG_DOCUMENT_11', 'FLAG_DOCUMENT_12', 'FLAG_DOCUMENT_13', 'FLAG_DOCUMENT_14', 'FLAG_DOCUMENT_15', 'FLAG_DOCUMENT_16', 'FLAG_DOCUMENT_17', 'FLAG_DOCUMENT_18', 'FLAG_DOCUMENT_19', 'FLAG_DOCUMENT_2', 'FLAG_DOCUMENT_20', 'FLAG_DOCUMENT_21', 'FLAG_DOCUMENT_3', 'FLAG_DOCUMENT_4', 'FLAG_DOCUMENT_5', 'FLAG_DOCUMENT_6', 'FLAG_DOCUMENT_7', 'FLAG_DOCUMENT_8', 'FLAG_DOCUMENT_9', 'FLAG_EMAIL', 'FLAG_EMP_PHONE', 'FLAG_MOBIL', 'FLAG_PHONE', 'FLAG_WORK_PHONE', 'HOUR_APPR_PROCESS_START', 'LIVE_CITY_NOT_WORK_CITY', 'LIVE_REGION_NOT_WORK_REGION', 'OBS_30_CNT_SOCIAL_CIRCLE', 'OBS_60_CNT_SOCIAL_CIRCLE', 'REGION_POPULATION_RELATIVE', 'REGION_RATING_CLIENT', 'REGION_RATING_CLIENT_W_CITY', 'REG_CITY_NOT_LIVE_CITY', 'REG_CITY_NOT_WORK_CITY', 'REG_REGION_NOT_LIVE_REGION', 'REG_REGION_NOT_WORK_REGION', 'TARGET', 'Unnamed: 0.1.1', 'app_CODE_GENDER_F_count', 'app_CODE_GENDER_M_count', 'app_CODE_GENDER_XNA_count', 'app_EMERGENCYSTATE_MODE_No_count', 'app_EMERGENCYSTATE_MODE_Yes_count', 'app_FLAG_OWN_CAR_N_count', 'app_FLAG_OWN_CAR_Y_count', 'app_FLAG_OWN_REALTY_N_count', 'app_FLAG_OWN_REALTY_Y_count', 'app_FONDKAPREMONT_MODE_not specified_count', 'app_FONDKAPREMONT_MODE_org spec account_count', 'app_FONDKAPREMONT_MODE_reg oper account_count', 'app_FONDKAPREMONT_MODE_reg oper spec account_count', 'app_HOUSETYPE_MODE_block of flats_count', 'app_HOUSETYPE_MODE_specific housing_count', 'app_HOUSETYPE_MODE_terraced house_count', 'app_NAME_CONTRACT_TYPE_Cash loans_count', 'app_NAME_CONTRACT_TYPE_Revolving loans_count', 'app_NAME_EDUCATION_TYPE_Academic degree_count', 'app_NAME_EDUCATION_TYPE_Higher education_count', 'app_NAME_EDUCATION_TYPE_Incomplete higher_count', 'app_NAME_EDUCATION_TYPE_Lower secondary_count', 'app_NAME_EDUCATION_TYPE_Secondary / secondary special_count', 'app_NAME_FAMILY_STATUS_Civil marriage_count', 'app_NAME_FAMILY_STATUS_Married_count', 'app_NAME_FAMILY_STATUS_Separated_count', 'app_NAME_FAMILY_STATUS_Single / not married_count', 'app_NAME_FAMILY_STATUS_Unknown_count', 'app_NAME_FAMILY_STATUS_Widow_count', 'app_NAME_HOUSING_TYPE_Co-op apartment_count', 'app_NAME_HOUSING_TYPE_House / apartment_count', 'app_NAME_HOUSING_TYPE_Municipal apartment_count', 'app_NAME_HOUSING_TYPE_Office apartment_count', 'app_NAME_HOUSING_TYPE_Rented apartment_count', 'app_NAME_HOUSING_TYPE_With parents_count', 'app_NAME_INCOME_TYPE_Businessman_count', 'app_NAME_INCOME_TYPE_Commercial associate_count', 'app_NAME_INCOME_TYPE_Maternity leave_count', 'app_NAME_INCOME_TYPE_Pensioner_count', 'app_NAME_INCOME_TYPE_State servant_count', 'app_NAME_INCOME_TYPE_Student_count', 'app_NAME_INCOME_TYPE_Unemployed_count', 'app_NAME_INCOME_TYPE_Working_count', 'app_NAME_TYPE_SUITE_Children_count', 'app_NAME_TYPE_SUITE_Family_count', 'app_NAME_TYPE_SUITE_Group of people_count', 'app_NAME_TYPE_SUITE_Other_A_count', 'app_NAME_TYPE_SUITE_Other_B_count', 'app_NAME_TYPE_SUITE_Spouse, partner_count', 'app_NAME_TYPE_SUITE_Unaccompanied_count', 'app_OCCUPATION_TYPE_Accountants_count', 'app_OCCUPATION_TYPE_Cleaning staff_count', 'app_OCCUPATION_TYPE_Cooking staff_count', 'app_OCCUPATION_TYPE_Core staff_count', 'app_OCCUPATION_TYPE_Drivers_count', 'app_OCCUPATION_TYPE_HR staff_count', 'app_OCCUPATION_TYPE_High skill tech staff_count', 'app_OCCUPATION_TYPE_IT staff_count', 'app_OCCUPATION_TYPE_Laborers_count', 'app_OCCUPATION_TYPE_Low-skill Laborers_count', 'app_OCCUPATION_TYPE_Managers_count', 'app_OCCUPATION_TYPE_Medicine staff_count', 'app_OCCUPATION_TYPE_Private service staff_count', 'app_OCCUPATION_TYPE_Realty agents_count', 'app_OCCUPATION_TYPE_Sales staff_count', 'app_OCCUPATION_TYPE_Secretaries_count', 'app_OCCUPATION_TYPE_Security staff_count', 'app_OCCUPATION_TYPE_Waiters/barmen staff_count', 'app_ORGANIZATION_TYPE_Advertising_count', 'app_ORGANIZATION_TYPE_Agriculture_count', 'app_ORGANIZATION_TYPE_Bank_count', 'app_ORGANIZATION_TYPE_Business Entity Type 1_count', 'app_ORGANIZATION_TYPE_Business Entity Type 2_count', 'app_ORGANIZATION_TYPE_Business Entity Type 3_count', 'app_ORGANIZATION_TYPE_Cleaning_count', 'app_ORGANIZATION_TYPE_Construction_count', 'app_ORGANIZATION_TYPE_Culture_count', 'app_ORGANIZATION_TYPE_Electricity_count', 'app_ORGANIZATION_TYPE_Emergency_count', 'app_ORGANIZATION_TYPE_Government_count', 'app_ORGANIZATION_TYPE_Hotel_count', 'app_ORGANIZATION_TYPE_Housing_count', 'app_ORGANIZATION_TYPE_Industry: type 10_count', 'app_ORGANIZATION_TYPE_Industry: type 11_count', 'app_ORGANIZATION_TYPE_Industry: type 12_count', 'app_ORGANIZATION_TYPE_Industry: type 13_count', 'app_ORGANIZATION_TYPE_Industry: type 1_count', 'app_ORGANIZATION_TYPE_Industry: type 2_count', 'app_ORGANIZATION_TYPE_Industry: type 3_count', 'app_ORGANIZATION_TYPE_Industry: type 4_count', 'app_ORGANIZATION_TYPE_Industry: type 5_count', 'app_ORGANIZATION_TYPE_Industry: type 6_count', 'app_ORGANIZATION_TYPE_Industry: type 7_count', 'app_ORGANIZATION_TYPE_Industry: type 8_count', 'app_ORGANIZATION_TYPE_Industry: type 9_count', 'app_ORGANIZATION_TYPE_Insurance_count', 'app_ORGANIZATION_TYPE_Kindergarten_count', 'app_ORGANIZATION_TYPE_Legal Services_count', 'app_ORGANIZATION_TYPE_Medicine_count', 'app_ORGANIZATION_TYPE_Military_count', 'app_ORGANIZATION_TYPE_Mobile_count', 'app_ORGANIZATION_TYPE_Other_count', 'app_ORGANIZATION_TYPE_Police_count', 'app_ORGANIZATION_TYPE_Postal_count', 'app_ORGANIZATION_TYPE_Realtor_count', 'app_ORGANIZATION_TYPE_Religion_count', 'app_ORGANIZATION_TYPE_Restaurant_count', 'app_ORGANIZATION_TYPE_School_count', 'app_ORGANIZATION_TYPE_Security Ministries_count', 'app_ORGANIZATION_TYPE_Security_count', 'app_ORGANIZATION_TYPE_Self-employed_count', 'app_ORGANIZATION_TYPE_Services_count', 'app_ORGANIZATION_TYPE_Telecom_count', 'app_ORGANIZATION_TYPE_Trade: type 1_count', 'app_ORGANIZATION_TYPE_Trade: type 2_count', 'app_ORGANIZATION_TYPE_Trade: type 3_count', 'app_ORGANIZATION_TYPE_Trade: type 4_count', 'app_ORGANIZATION_TYPE_Trade: type 5_count', 'app_ORGANIZATION_TYPE_Trade: type 6_count', 'app_ORGANIZATION_TYPE_Trade: type 7_count', 'app_ORGANIZATION_TYPE_Transport: type 1_count', 'app_ORGANIZATION_TYPE_Transport: type 2_count', 'app_ORGANIZATION_TYPE_Transport: type 3_count', 'app_ORGANIZATION_TYPE_Transport: type 4_count', 'app_ORGANIZATION_TYPE_University_count', 'app_ORGANIZATION_TYPE_XNA_count', 'app_WALLSMATERIAL_MODE_Block_count', 'app_WALLSMATERIAL_MODE_Mixed_count', 'app_WALLSMATERIAL_MODE_Monolithic_count', 'app_WALLSMATERIAL_MODE_Others_count', 'app_WALLSMATERIAL_MODE_Panel_count', 'app_WALLSMATERIAL_MODE_Stone, brick_count', 'app_WALLSMATERIAL_MODE_Wooden_count', 'app_WEEKDAY_APPR_PROCESS_START_FRIDAY_count', 'app_WEEKDAY_APPR_PROCESS_START_MONDAY_count', 'app_WEEKDAY_APPR_PROCESS_START_SATURDAY_count', 'app_WEEKDAY_APPR_PROCESS_START_SUNDAY_count', 'app_WEEKDAY_APPR_PROCESS_START_THURSDAY_count', 'app_WEEKDAY_APPR_PROCESS_START_TUESDAY_count', 'app_WEEKDAY_APPR_PROCESS_START_WEDNESDAY_count']],\n",
       "           codes=[[13, 6, 8, 10, 53, 9, 3, 40, 1, 0, 45, 2, 7, 44, 43, 5, 4, 38, 192, 193, 11, 62, 191, 61, 187, 39, 188, 46, 47, 127, 78, 103, 189, 12, 65, 112, 98, 41, 185, 28, 49, 96, 67, 77, 57, 90, 184, 164, 35, 80, 84, 118, 76, 190, 48, 60, 79, 155, 59, 73, 107, 108, 114, 88, 126, 102, 129, 51, 33, 173, 66, 133, 85, 110, 54, 42, 55, 120, 74, 180, 82, 106, 177, 125, 152, 70, 71, 93, 186, 31, 161, 87, 169, 63, 150, 142, 105, 30, 115, 75, 104, 64, 113, 123, 135, 137, 97, 163, 50, 148, 101, 175, 160, 176, 157, 181, 140, 116, 86, 183, 58, 68, 121, 21, 124, 146, 23, 143, 153, 168]])"
      ]
     },
     "execution_count": 9,
     "metadata": {},
     "output_type": "execute_result"
    }
   ],
   "source": [
    "importancescores = pd.DataFrame(model.feature_importances_,index=train_x.columns)\n",
    "\n",
    "importancescores=importancescores.sort_values(by=0,ascending=False)\n",
    "importancescores463=importancescores[importancescores.values>.001]\n",
    "importancescores463.index"
   ]
  },
  {
   "cell_type": "code",
   "execution_count": 10,
   "metadata": {},
   "outputs": [],
   "source": [
    "bestandimportantfeatures=bestscores600.index & importancescores463.index"
   ]
  },
  {
   "cell_type": "code",
   "execution_count": 11,
   "metadata": {},
   "outputs": [
    {
     "name": "stdout",
     "output_type": "stream",
     "text": [
      "111 features\n"
     ]
    },
    {
     "data": {
      "text/plain": [
       "MultiIndex(levels=[['AMT_ANNUITY', 'AMT_CREDIT', 'AMT_GOODS_PRICE', 'CNT_CHILDREN', 'CNT_FAM_MEMBERS', 'DAYS_BIRTH', 'DAYS_EMPLOYED', 'DAYS_ID_PUBLISH', 'DAYS_LAST_PHONE_CHANGE', 'DAYS_REGISTRATION', 'DEF_30_CNT_SOCIAL_CIRCLE', 'DEF_60_CNT_SOCIAL_CIRCLE', 'EXT_SOURCE_2', 'FLAG_DOCUMENT_16', 'FLAG_DOCUMENT_18', 'FLAG_DOCUMENT_3', 'FLAG_DOCUMENT_6', 'FLAG_DOCUMENT_8', 'FLAG_PHONE', 'FLAG_WORK_PHONE', 'HOUR_APPR_PROCESS_START', 'LIVE_CITY_NOT_WORK_CITY', 'LIVE_REGION_NOT_WORK_REGION', 'REGION_POPULATION_RELATIVE', 'REGION_RATING_CLIENT', 'REGION_RATING_CLIENT_W_CITY', 'REG_CITY_NOT_LIVE_CITY', 'REG_CITY_NOT_WORK_CITY', 'REG_REGION_NOT_LIVE_REGION', 'REG_REGION_NOT_WORK_REGION', 'app_CODE_GENDER_F_count', 'app_CODE_GENDER_M_count', 'app_EMERGENCYSTATE_MODE_No_count', 'app_EMERGENCYSTATE_MODE_Yes_count', 'app_FLAG_OWN_CAR_N_count', 'app_FLAG_OWN_CAR_Y_count', 'app_FLAG_OWN_REALTY_N_count', 'app_FLAG_OWN_REALTY_Y_count', 'app_FONDKAPREMONT_MODE_not specified_count', 'app_FONDKAPREMONT_MODE_org spec account_count', 'app_FONDKAPREMONT_MODE_reg oper account_count', 'app_FONDKAPREMONT_MODE_reg oper spec account_count', 'app_HOUSETYPE_MODE_block of flats_count', 'app_HOUSETYPE_MODE_specific housing_count', 'app_NAME_CONTRACT_TYPE_Cash loans_count', 'app_NAME_CONTRACT_TYPE_Revolving loans_count', 'app_NAME_EDUCATION_TYPE_Higher education_count', 'app_NAME_EDUCATION_TYPE_Incomplete higher_count', 'app_NAME_EDUCATION_TYPE_Lower secondary_count', 'app_NAME_EDUCATION_TYPE_Secondary / secondary special_count', 'app_NAME_FAMILY_STATUS_Civil marriage_count', 'app_NAME_FAMILY_STATUS_Married_count', 'app_NAME_FAMILY_STATUS_Single / not married_count', 'app_NAME_FAMILY_STATUS_Widow_count', 'app_NAME_HOUSING_TYPE_House / apartment_count', 'app_NAME_HOUSING_TYPE_Municipal apartment_count', 'app_NAME_HOUSING_TYPE_Office apartment_count', 'app_NAME_HOUSING_TYPE_Rented apartment_count', 'app_NAME_HOUSING_TYPE_With parents_count', 'app_NAME_INCOME_TYPE_Commercial associate_count', 'app_NAME_INCOME_TYPE_State servant_count', 'app_NAME_INCOME_TYPE_Working_count', 'app_NAME_TYPE_SUITE_Children_count', 'app_NAME_TYPE_SUITE_Family_count', 'app_NAME_TYPE_SUITE_Other_B_count', 'app_NAME_TYPE_SUITE_Unaccompanied_count', 'app_OCCUPATION_TYPE_Accountants_count', 'app_OCCUPATION_TYPE_Cleaning staff_count', 'app_OCCUPATION_TYPE_Cooking staff_count', 'app_OCCUPATION_TYPE_Core staff_count', 'app_OCCUPATION_TYPE_Drivers_count', 'app_OCCUPATION_TYPE_High skill tech staff_count', 'app_OCCUPATION_TYPE_Laborers_count', 'app_OCCUPATION_TYPE_Low-skill Laborers_count', 'app_OCCUPATION_TYPE_Managers_count', 'app_OCCUPATION_TYPE_Medicine staff_count', 'app_OCCUPATION_TYPE_Private service staff_count', 'app_OCCUPATION_TYPE_Sales staff_count', 'app_OCCUPATION_TYPE_Security staff_count', 'app_OCCUPATION_TYPE_Waiters/barmen staff_count', 'app_ORGANIZATION_TYPE_Agriculture_count', 'app_ORGANIZATION_TYPE_Bank_count', 'app_ORGANIZATION_TYPE_Business Entity Type 2_count', 'app_ORGANIZATION_TYPE_Business Entity Type 3_count', 'app_ORGANIZATION_TYPE_Construction_count', 'app_ORGANIZATION_TYPE_Government_count', 'app_ORGANIZATION_TYPE_Industry: type 11_count', 'app_ORGANIZATION_TYPE_Industry: type 1_count', 'app_ORGANIZATION_TYPE_Industry: type 3_count', 'app_ORGANIZATION_TYPE_Industry: type 4_count', 'app_ORGANIZATION_TYPE_Industry: type 9_count', 'app_ORGANIZATION_TYPE_Kindergarten_count', 'app_ORGANIZATION_TYPE_Medicine_count', 'app_ORGANIZATION_TYPE_Military_count', 'app_ORGANIZATION_TYPE_Other_count', 'app_ORGANIZATION_TYPE_Restaurant_count', 'app_ORGANIZATION_TYPE_School_count', 'app_ORGANIZATION_TYPE_Security_count', 'app_ORGANIZATION_TYPE_Self-employed_count', 'app_ORGANIZATION_TYPE_Trade: type 2_count', 'app_ORGANIZATION_TYPE_Trade: type 3_count', 'app_ORGANIZATION_TYPE_Trade: type 7_count', 'app_ORGANIZATION_TYPE_Transport: type 3_count', 'app_ORGANIZATION_TYPE_Transport: type 4_count', 'app_WALLSMATERIAL_MODE_Block_count', 'app_WALLSMATERIAL_MODE_Panel_count', 'app_WALLSMATERIAL_MODE_Stone, brick_count', 'app_WALLSMATERIAL_MODE_Wooden_count', 'app_WEEKDAY_APPR_PROCESS_START_MONDAY_count', 'app_WEEKDAY_APPR_PROCESS_START_SATURDAY_count', 'app_WEEKDAY_APPR_PROCESS_START_TUESDAY_count']],\n",
       "           codes=[[50, 36, 71, 96, 58, 32, 23, 60, 40, 64, 11, 14, 57, 88, 54, 77, 6, 2, 44, 56, 28, 1, 46, 104, 84, 51, 20, 86, 98, 97, 108, 67, 4, 73, 38, 76, 101, 17, 42, 63, 47, 31, 16, 29, 83, 103, 55, 79, 90, 59, 62, 10, 106, 70, 92, 109, 5, 43, 24, 39, 81, 15, 8, 21, 102, 35, 105, 69, 48, 7, 34, 100, 68, 45, 94, 87, 66, 3, 49, 75, 93, 89, 18, 74, 41, 27, 110, 107, 91, 95, 25, 30, 12, 99, 37, 22, 26, 13, 53, 80, 85, 19, 0, 82, 78, 61, 72, 52, 33, 65, 9]],\n",
       "           sortorder=0)"
      ]
     },
     "execution_count": 11,
     "metadata": {},
     "output_type": "execute_result"
    }
   ],
   "source": [
    "print(len(bestandimportantfeatures), 'features')\n",
    "bestandimportantfeatures"
   ]
  },
  {
   "cell_type": "code",
   "execution_count": 12,
   "metadata": {},
   "outputs": [],
   "source": [
    "names=[]\n",
    "for x in bestandimportantfeatures.values:\n",
    "    names.append(x[0])"
   ]
  },
  {
   "cell_type": "code",
   "execution_count": 13,
   "metadata": {},
   "outputs": [],
   "source": [
    "x_train = df[names].values\n",
    "\n",
    "y_train = data['TARGET'].values\n",
    "#y_train = pd.DataFrame(y_train)"
   ]
  },
  {
   "cell_type": "code",
   "execution_count": 14,
   "metadata": {},
   "outputs": [
    {
     "data": {
      "text/plain": [
       "RandomForestClassifier(bootstrap=True, class_weight='balanced',\n",
       "                       criterion='gini', max_depth=30, max_features='auto',\n",
       "                       max_leaf_nodes=None, min_impurity_decrease=0.0,\n",
       "                       min_impurity_split=None, min_samples_leaf=1,\n",
       "                       min_samples_split=2, min_weight_fraction_leaf=0.0,\n",
       "                       n_estimators=100, n_jobs=-1, oob_score=False,\n",
       "                       random_state=0, verbose=0, warm_start=False)"
      ]
     },
     "execution_count": 14,
     "metadata": {},
     "output_type": "execute_result"
    }
   ],
   "source": [
    "rf = RandomForestClassifier(\n",
    "    n_estimators=100,\n",
    "    criterion='gini',\n",
    "    max_depth=30,\n",
    "    min_samples_split=2,\n",
    "    min_samples_leaf=1,\n",
    "    min_weight_fraction_leaf=0.0,\n",
    "    max_features='auto',\n",
    "    max_leaf_nodes=None,\n",
    "    min_impurity_decrease=0.0,\n",
    "    min_impurity_split=None,\n",
    "    bootstrap=True,\n",
    "    oob_score=False,\n",
    "    n_jobs=-1,\n",
    "    random_state=0,\n",
    "    verbose=0,\n",
    "    warm_start=False,\n",
    "    class_weight='balanced'\n",
    ")\n",
    "\n",
    "rf.fit(x_train, y_train)"
   ]
  },
  {
   "cell_type": "code",
   "execution_count": 15,
   "metadata": {},
   "outputs": [],
   "source": [
    "def evaluate_model(ytest, ypred, ypred_proba = None):\n",
    "    if ypred_proba is not None:\n",
    "        print('ROC-AUC score of the model:   {}'.format(roc_auc_score(ytest, ypred_proba[:, 1])))\n",
    "    print('Accuracy of the model: {}\\n'.format(accuracy_score(ytest, ypred)))\n",
    "    print('Classification report: \\n{}\\n'.format(classification_report(ytest, ypred)))\n",
    "    print('Confusion matrix: \\n{}\\n'.format(confusion_matrix(ytest, ypred)))"
   ]
  },
  {
   "cell_type": "code",
   "execution_count": 18,
   "metadata": {},
   "outputs": [
    {
     "name": "stdout",
     "output_type": "stream",
     "text": [
      "\n",
      "cv: 0\n",
      "\n",
      "ROC-AUC score of the model:   0.6900845662778285\n",
      "Accuracy of the model: 0.9181841831425598\n",
      "\n",
      "Classification report: \n",
      "              precision    recall  f1-score   support\n",
      "\n",
      "         0.0       0.92      1.00      0.96     28269\n",
      "         1.0       0.38      0.02      0.04      2483\n",
      "\n",
      "    accuracy                           0.92     30752\n",
      "   macro avg       0.65      0.51      0.50     30752\n",
      "weighted avg       0.88      0.92      0.88     30752\n",
      "\n",
      "\n",
      "Confusion matrix: \n",
      "[[28182    87]\n",
      " [ 2429    54]]\n",
      "\n",
      "\n",
      "cv: 1\n",
      "\n",
      "ROC-AUC score of the model:   0.6959624573350153\n",
      "Accuracy of the model: 0.9182817377731529\n",
      "\n",
      "Classification report: \n",
      "              precision    recall  f1-score   support\n",
      "\n",
      "         0.0       0.92      1.00      0.96     28269\n",
      "         1.0       0.40      0.03      0.05      2483\n",
      "\n",
      "    accuracy                           0.92     30752\n",
      "   macro avg       0.66      0.51      0.50     30752\n",
      "weighted avg       0.88      0.92      0.88     30752\n",
      "\n",
      "\n",
      "Confusion matrix: \n",
      "[[28176    93]\n",
      " [ 2420    63]]\n",
      "\n",
      "\n",
      "cv: 2\n",
      "\n",
      "ROC-AUC score of the model:   0.6962385218459668\n",
      "Accuracy of the model: 0.918054110301769\n",
      "\n",
      "Classification report: \n",
      "              precision    recall  f1-score   support\n",
      "\n",
      "         0.0       0.92      1.00      0.96     28269\n",
      "         1.0       0.38      0.02      0.04      2483\n",
      "\n",
      "    accuracy                           0.92     30752\n",
      "   macro avg       0.65      0.51      0.50     30752\n",
      "weighted avg       0.88      0.92      0.88     30752\n",
      "\n",
      "\n",
      "Confusion matrix: \n",
      "[[28174    95]\n",
      " [ 2425    58]]\n",
      "\n",
      "\n",
      "cv: 3\n",
      "\n",
      "ROC-AUC score of the model:   0.689591624974194\n",
      "Accuracy of the model: 0.9171761186264308\n",
      "\n",
      "Classification report: \n",
      "              precision    recall  f1-score   support\n",
      "\n",
      "         0.0       0.92      1.00      0.96     28269\n",
      "         1.0       0.32      0.02      0.04      2483\n",
      "\n",
      "    accuracy                           0.92     30752\n",
      "   macro avg       0.62      0.51      0.50     30752\n",
      "weighted avg       0.87      0.92      0.88     30752\n",
      "\n",
      "\n",
      "Confusion matrix: \n",
      "[[28147   122]\n",
      " [ 2425    58]]\n",
      "\n",
      "\n",
      "cv: 4\n",
      "\n",
      "ROC-AUC score of the model:   0.6953935742496427\n",
      "Accuracy of the model: 0.9181841831425598\n",
      "\n",
      "Classification report: \n",
      "              precision    recall  f1-score   support\n",
      "\n",
      "         0.0       0.92      1.00      0.96     28269\n",
      "         1.0       0.38      0.02      0.04      2483\n",
      "\n",
      "    accuracy                           0.92     30752\n",
      "   macro avg       0.65      0.51      0.50     30752\n",
      "weighted avg       0.88      0.92      0.88     30752\n",
      "\n",
      "\n",
      "Confusion matrix: \n",
      "[[28184    85]\n",
      " [ 2431    52]]\n",
      "\n",
      "\n",
      "cv: 5\n",
      "\n",
      "ROC-AUC score of the model:   0.6903051505666937\n",
      "Accuracy of the model: 0.9178563298754512\n",
      "\n",
      "Classification report: \n",
      "              precision    recall  f1-score   support\n",
      "\n",
      "         0.0       0.92      1.00      0.96     28269\n",
      "         1.0       0.36      0.02      0.04      2482\n",
      "\n",
      "    accuracy                           0.92     30751\n",
      "   macro avg       0.64      0.51      0.50     30751\n",
      "weighted avg       0.88      0.92      0.88     30751\n",
      "\n",
      "\n",
      "Confusion matrix: \n",
      "[[28169   100]\n",
      " [ 2426    56]]\n",
      "\n",
      "\n",
      "cv: 6\n",
      "\n",
      "ROC-AUC score of the model:   0.6991486573714214\n",
      "Accuracy of the model: 0.9181788617886179\n",
      "\n",
      "Classification report: \n",
      "              precision    recall  f1-score   support\n",
      "\n",
      "         0.0       0.92      1.00      0.96     28268\n",
      "         1.0       0.39      0.02      0.05      2482\n",
      "\n",
      "    accuracy                           0.92     30750\n",
      "   macro avg       0.66      0.51      0.50     30750\n",
      "weighted avg       0.88      0.92      0.88     30750\n",
      "\n",
      "\n",
      "Confusion matrix: \n",
      "[[28172    96]\n",
      " [ 2420    62]]\n",
      "\n",
      "\n",
      "cv: 7\n",
      "\n",
      "ROC-AUC score of the model:   0.6882493389221414\n",
      "Accuracy of the model: 0.9178861788617886\n",
      "\n",
      "Classification report: \n",
      "              precision    recall  f1-score   support\n",
      "\n",
      "         0.0       0.92      1.00      0.96     28268\n",
      "         1.0       0.35      0.02      0.04      2482\n",
      "\n",
      "    accuracy                           0.92     30750\n",
      "   macro avg       0.63      0.51      0.50     30750\n",
      "weighted avg       0.87      0.92      0.88     30750\n",
      "\n",
      "\n",
      "Confusion matrix: \n",
      "[[28177    91]\n",
      " [ 2434    48]]\n",
      "\n",
      "\n",
      "cv: 8\n",
      "\n",
      "ROC-AUC score of the model:   0.6971277818946479\n",
      "Accuracy of the model: 0.9175284552845528\n",
      "\n",
      "Classification report: \n",
      "              precision    recall  f1-score   support\n",
      "\n",
      "         0.0       0.92      1.00      0.96     28268\n",
      "         1.0       0.33      0.02      0.04      2482\n",
      "\n",
      "    accuracy                           0.92     30750\n",
      "   macro avg       0.62      0.51      0.50     30750\n",
      "weighted avg       0.87      0.92      0.88     30750\n",
      "\n",
      "\n",
      "Confusion matrix: \n",
      "[[28163   105]\n",
      " [ 2431    51]]\n",
      "\n",
      "\n",
      "cv: 9\n",
      "\n",
      "ROC-AUC score of the model:   0.686008227684211\n",
      "Accuracy of the model: 0.9182439024390244\n",
      "\n",
      "Classification report: \n",
      "              precision    recall  f1-score   support\n",
      "\n",
      "         0.0       0.92      1.00      0.96     28268\n",
      "         1.0       0.37      0.02      0.04      2482\n",
      "\n",
      "    accuracy                           0.92     30750\n",
      "   macro avg       0.65      0.51      0.50     30750\n",
      "weighted avg       0.88      0.92      0.88     30750\n",
      "\n",
      "\n",
      "Confusion matrix: \n",
      "[[28189    79]\n",
      " [ 2435    47]]\n",
      "\n"
     ]
    }
   ],
   "source": [
    "folds = list(StratifiedKFold(10, shuffle=True, random_state=2016)\\\n",
    "             .split(x_train, y_train))\n",
    "for i, (train_idx, valid_idx) in enumerate(folds):\n",
    "    \n",
    "    ytrain = np.array(y_train)\n",
    "    X_train = x_train[train_idx]\n",
    "    Y_train = ytrain[train_idx]\n",
    "    X_valid = x_train[valid_idx]\n",
    "    Y_valid = ytrain[valid_idx]\n",
    "    \n",
    "    rf.fit(X_train, Y_train)\n",
    "    pred = rf.predict(X_valid)\n",
    "    pred_proba = rf.predict_proba(X_valid)\n",
    "    \n",
    "    print('\\ncv: {}\\n'.format(i))\n",
    "    evaluate_model(Y_valid, pred, pred_proba)"
   ]
  },
  {
   "cell_type": "code",
   "execution_count": null,
   "metadata": {},
   "outputs": [],
   "source": [
    "# Predict on testing dataset\n",
    "# y_pred = rf.predict(x_test, verbose=1)\n",
    "#y_pred = y_pred.clip(min=0.005, max=0.995)\n",
    "#print(y_pred.head())"
   ]
  },
  {
   "cell_type": "code",
   "execution_count": null,
   "metadata": {},
   "outputs": [],
   "source": [
    "#df.to_csv('predict.csv', index=None)\n",
    "#df.head(10)"
   ]
  },
  {
   "cell_type": "code",
   "execution_count": null,
   "metadata": {},
   "outputs": [],
   "source": []
  }
 ],
 "metadata": {
  "kernelspec": {
   "display_name": "Python 3",
   "language": "python",
   "name": "python3"
  },
  "language_info": {
   "codemirror_mode": {
    "name": "ipython",
    "version": 3
   },
   "file_extension": ".py",
   "mimetype": "text/x-python",
   "name": "python",
   "nbconvert_exporter": "python",
   "pygments_lexer": "ipython3",
   "version": "3.7.3"
  }
 },
 "nbformat": 4,
 "nbformat_minor": 2
}
