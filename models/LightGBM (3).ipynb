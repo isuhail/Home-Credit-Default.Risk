{
 "cells": [
  {
   "cell_type": "code",
   "execution_count": 7,
   "metadata": {},
   "outputs": [],
   "source": [
    "import pandas as pd\n",
    "import numpy as np\n",
    "from sklearn.feature_selection import SelectKBest\n",
    "from sklearn.feature_selection import chi2\n",
    "data = pd.read_csv(\"/Volumes/GoogleDrive/共享云端硬盘/Predictive Analytics Project/train.csv\")"
   ]
  },
  {
   "cell_type": "code",
   "execution_count": 8,
   "metadata": {},
   "outputs": [],
   "source": [
    "%matplotlib inline\n",
    "# import necessary libraries and specify that graphs should be plotted inline. \n",
    "import numpy as np\n",
    "import pandas as pd\n",
    "import matplotlib.pyplot as plt\n",
    "from sklearn import tree, neighbors, datasets, metrics, svm\n",
    "from sklearn.model_selection import cross_val_score, train_test_split, GridSearchCV \n",
    "from sklearn.metrics import classification_report, confusion_matrix, accuracy_score, roc_curve, auc, roc_auc_score\n",
    "from sklearn.preprocessing import StandardScaler\n",
    "from sklearn.neighbors import KNeighborsClassifier\n",
    "from sklearn import linear_model\n",
    "from sklearn.linear_model import LogisticRegression\n",
    "from sklearn.naive_bayes import GaussianNB\n",
    "from sklearn.svm import SVC\n",
    "import scikitplot as skplt\n",
    "\n",
    "from sklearn.model_selection import StratifiedKFold"
   ]
  },
  {
   "cell_type": "code",
   "execution_count": 9,
   "metadata": {},
   "outputs": [],
   "source": [
    "data=data.drop(['Unnamed: 0','Unnamed: 0.1','SK_ID_CURR','set_x','set_y'], axis=1)\n",
    "datacount=data.count()\n",
    "data=data.drop(list(datacount[datacount<300000].index),axis=1)\n",
    "data=data.fillna(data.mean())\n",
    "data=data[(data['TARGET']==0) | (data['TARGET']==1)]"
   ]
  },
  {
   "cell_type": "code",
   "execution_count": 10,
   "metadata": {},
   "outputs": [],
   "source": [
    "from sklearn import preprocessing\n",
    "min_max_scaler = preprocessing.MinMaxScaler()\n",
    "x_scaled = min_max_scaler.fit_transform(data)\n",
    "df = pd.DataFrame(x_scaled)"
   ]
  },
  {
   "cell_type": "code",
   "execution_count": 11,
   "metadata": {},
   "outputs": [],
   "source": [
    "normalized_df=(data-data.mean())/data.std()\n",
    "\n",
    "df.columns=[list(data.columns)]"
   ]
  },
  {
   "cell_type": "code",
   "execution_count": 12,
   "metadata": {},
   "outputs": [
    {
     "name": "stderr",
     "output_type": "stream",
     "text": [
      "/Users/fbzhan/anaconda3/lib/python3.7/site-packages/pandas/core/generic.py:3812: PerformanceWarning: dropping on a non-lexsorted multi-index without a level parameter may impact performance.\n",
      "  new_axis = axis.drop(labels, errors=errors)\n"
     ]
    }
   ],
   "source": [
    "train_x = df.drop(['TARGET'], axis=1)\n",
    "train_y = data['TARGET']    #target column i.e price range"
   ]
  },
  {
   "cell_type": "code",
   "execution_count": 13,
   "metadata": {},
   "outputs": [],
   "source": [
    "Best = SelectKBest(score_func=chi2,k=2).fit(train_x, train_y)\n",
    "bestscores = pd.DataFrame(Best.scores_,index=train_x.columns)\n",
    "bestscores=bestscores.sort_values(by=0,ascending=False)\n",
    "bestscores600=bestscores[bestscores.values>1]"
   ]
  },
  {
   "cell_type": "code",
   "execution_count": 14,
   "metadata": {},
   "outputs": [
    {
     "name": "stderr",
     "output_type": "stream",
     "text": [
      "/Users/fbzhan/anaconda3/lib/python3.7/site-packages/sklearn/ensemble/forest.py:245: FutureWarning: The default value of n_estimators will change from 10 in version 0.20 to 100 in 0.22.\n",
      "  \"10 in version 0.20 to 100 in 0.22.\", FutureWarning)\n"
     ]
    },
    {
     "data": {
      "text/plain": [
       "ExtraTreesClassifier(bootstrap=False, class_weight=None, criterion='gini',\n",
       "                     max_depth=None, max_features='auto', max_leaf_nodes=None,\n",
       "                     min_impurity_decrease=0.0, min_impurity_split=None,\n",
       "                     min_samples_leaf=1, min_samples_split=2,\n",
       "                     min_weight_fraction_leaf=0.0, n_estimators=10, n_jobs=None,\n",
       "                     oob_score=False, random_state=None, verbose=0,\n",
       "                     warm_start=False)"
      ]
     },
     "execution_count": 14,
     "metadata": {},
     "output_type": "execute_result"
    }
   ],
   "source": [
    "from sklearn.ensemble import ExtraTreesClassifier\n",
    "model = ExtraTreesClassifier()\n",
    "model.fit(train_x, train_y)"
   ]
  },
  {
   "cell_type": "code",
   "execution_count": 15,
   "metadata": {},
   "outputs": [
    {
     "data": {
      "text/plain": [
       "MultiIndex(levels=[['AMT_ANNUITY', 'AMT_CREDIT', 'AMT_GOODS_PRICE', 'AMT_INCOME_TOTAL', 'CNT_CHILDREN', 'CNT_FAM_MEMBERS', 'DAYS_BIRTH', 'DAYS_EMPLOYED', 'DAYS_ID_PUBLISH', 'DAYS_LAST_PHONE_CHANGE', 'DAYS_REGISTRATION', 'DEF_30_CNT_SOCIAL_CIRCLE', 'DEF_60_CNT_SOCIAL_CIRCLE', 'EXT_SOURCE_2', 'FLAG_CONT_MOBILE', 'FLAG_DOCUMENT_10', 'FLAG_DOCUMENT_11', 'FLAG_DOCUMENT_12', 'FLAG_DOCUMENT_13', 'FLAG_DOCUMENT_14', 'FLAG_DOCUMENT_15', 'FLAG_DOCUMENT_16', 'FLAG_DOCUMENT_17', 'FLAG_DOCUMENT_18', 'FLAG_DOCUMENT_19', 'FLAG_DOCUMENT_2', 'FLAG_DOCUMENT_20', 'FLAG_DOCUMENT_21', 'FLAG_DOCUMENT_3', 'FLAG_DOCUMENT_4', 'FLAG_DOCUMENT_5', 'FLAG_DOCUMENT_6', 'FLAG_DOCUMENT_7', 'FLAG_DOCUMENT_8', 'FLAG_DOCUMENT_9', 'FLAG_EMAIL', 'FLAG_EMP_PHONE', 'FLAG_MOBIL', 'FLAG_PHONE', 'FLAG_WORK_PHONE', 'HOUR_APPR_PROCESS_START', 'LIVE_CITY_NOT_WORK_CITY', 'LIVE_REGION_NOT_WORK_REGION', 'OBS_30_CNT_SOCIAL_CIRCLE', 'OBS_60_CNT_SOCIAL_CIRCLE', 'REGION_POPULATION_RELATIVE', 'REGION_RATING_CLIENT', 'REGION_RATING_CLIENT_W_CITY', 'REG_CITY_NOT_LIVE_CITY', 'REG_CITY_NOT_WORK_CITY', 'REG_REGION_NOT_LIVE_REGION', 'REG_REGION_NOT_WORK_REGION', 'TARGET', 'Unnamed: 0.1.1', 'app_CODE_GENDER_F_count', 'app_CODE_GENDER_M_count', 'app_CODE_GENDER_XNA_count', 'app_EMERGENCYSTATE_MODE_No_count', 'app_EMERGENCYSTATE_MODE_Yes_count', 'app_FLAG_OWN_CAR_N_count', 'app_FLAG_OWN_CAR_Y_count', 'app_FLAG_OWN_REALTY_N_count', 'app_FLAG_OWN_REALTY_Y_count', 'app_FONDKAPREMONT_MODE_not specified_count', 'app_FONDKAPREMONT_MODE_org spec account_count', 'app_FONDKAPREMONT_MODE_reg oper account_count', 'app_FONDKAPREMONT_MODE_reg oper spec account_count', 'app_HOUSETYPE_MODE_block of flats_count', 'app_HOUSETYPE_MODE_specific housing_count', 'app_HOUSETYPE_MODE_terraced house_count', 'app_NAME_CONTRACT_TYPE_Cash loans_count', 'app_NAME_CONTRACT_TYPE_Revolving loans_count', 'app_NAME_EDUCATION_TYPE_Academic degree_count', 'app_NAME_EDUCATION_TYPE_Higher education_count', 'app_NAME_EDUCATION_TYPE_Incomplete higher_count', 'app_NAME_EDUCATION_TYPE_Lower secondary_count', 'app_NAME_EDUCATION_TYPE_Secondary / secondary special_count', 'app_NAME_FAMILY_STATUS_Civil marriage_count', 'app_NAME_FAMILY_STATUS_Married_count', 'app_NAME_FAMILY_STATUS_Separated_count', 'app_NAME_FAMILY_STATUS_Single / not married_count', 'app_NAME_FAMILY_STATUS_Unknown_count', 'app_NAME_FAMILY_STATUS_Widow_count', 'app_NAME_HOUSING_TYPE_Co-op apartment_count', 'app_NAME_HOUSING_TYPE_House / apartment_count', 'app_NAME_HOUSING_TYPE_Municipal apartment_count', 'app_NAME_HOUSING_TYPE_Office apartment_count', 'app_NAME_HOUSING_TYPE_Rented apartment_count', 'app_NAME_HOUSING_TYPE_With parents_count', 'app_NAME_INCOME_TYPE_Businessman_count', 'app_NAME_INCOME_TYPE_Commercial associate_count', 'app_NAME_INCOME_TYPE_Maternity leave_count', 'app_NAME_INCOME_TYPE_Pensioner_count', 'app_NAME_INCOME_TYPE_State servant_count', 'app_NAME_INCOME_TYPE_Student_count', 'app_NAME_INCOME_TYPE_Unemployed_count', 'app_NAME_INCOME_TYPE_Working_count', 'app_NAME_TYPE_SUITE_Children_count', 'app_NAME_TYPE_SUITE_Family_count', 'app_NAME_TYPE_SUITE_Group of people_count', 'app_NAME_TYPE_SUITE_Other_A_count', 'app_NAME_TYPE_SUITE_Other_B_count', 'app_NAME_TYPE_SUITE_Spouse, partner_count', 'app_NAME_TYPE_SUITE_Unaccompanied_count', 'app_OCCUPATION_TYPE_Accountants_count', 'app_OCCUPATION_TYPE_Cleaning staff_count', 'app_OCCUPATION_TYPE_Cooking staff_count', 'app_OCCUPATION_TYPE_Core staff_count', 'app_OCCUPATION_TYPE_Drivers_count', 'app_OCCUPATION_TYPE_HR staff_count', 'app_OCCUPATION_TYPE_High skill tech staff_count', 'app_OCCUPATION_TYPE_IT staff_count', 'app_OCCUPATION_TYPE_Laborers_count', 'app_OCCUPATION_TYPE_Low-skill Laborers_count', 'app_OCCUPATION_TYPE_Managers_count', 'app_OCCUPATION_TYPE_Medicine staff_count', 'app_OCCUPATION_TYPE_Private service staff_count', 'app_OCCUPATION_TYPE_Realty agents_count', 'app_OCCUPATION_TYPE_Sales staff_count', 'app_OCCUPATION_TYPE_Secretaries_count', 'app_OCCUPATION_TYPE_Security staff_count', 'app_OCCUPATION_TYPE_Waiters/barmen staff_count', 'app_ORGANIZATION_TYPE_Advertising_count', 'app_ORGANIZATION_TYPE_Agriculture_count', 'app_ORGANIZATION_TYPE_Bank_count', 'app_ORGANIZATION_TYPE_Business Entity Type 1_count', 'app_ORGANIZATION_TYPE_Business Entity Type 2_count', 'app_ORGANIZATION_TYPE_Business Entity Type 3_count', 'app_ORGANIZATION_TYPE_Cleaning_count', 'app_ORGANIZATION_TYPE_Construction_count', 'app_ORGANIZATION_TYPE_Culture_count', 'app_ORGANIZATION_TYPE_Electricity_count', 'app_ORGANIZATION_TYPE_Emergency_count', 'app_ORGANIZATION_TYPE_Government_count', 'app_ORGANIZATION_TYPE_Hotel_count', 'app_ORGANIZATION_TYPE_Housing_count', 'app_ORGANIZATION_TYPE_Industry: type 10_count', 'app_ORGANIZATION_TYPE_Industry: type 11_count', 'app_ORGANIZATION_TYPE_Industry: type 12_count', 'app_ORGANIZATION_TYPE_Industry: type 13_count', 'app_ORGANIZATION_TYPE_Industry: type 1_count', 'app_ORGANIZATION_TYPE_Industry: type 2_count', 'app_ORGANIZATION_TYPE_Industry: type 3_count', 'app_ORGANIZATION_TYPE_Industry: type 4_count', 'app_ORGANIZATION_TYPE_Industry: type 5_count', 'app_ORGANIZATION_TYPE_Industry: type 6_count', 'app_ORGANIZATION_TYPE_Industry: type 7_count', 'app_ORGANIZATION_TYPE_Industry: type 8_count', 'app_ORGANIZATION_TYPE_Industry: type 9_count', 'app_ORGANIZATION_TYPE_Insurance_count', 'app_ORGANIZATION_TYPE_Kindergarten_count', 'app_ORGANIZATION_TYPE_Legal Services_count', 'app_ORGANIZATION_TYPE_Medicine_count', 'app_ORGANIZATION_TYPE_Military_count', 'app_ORGANIZATION_TYPE_Mobile_count', 'app_ORGANIZATION_TYPE_Other_count', 'app_ORGANIZATION_TYPE_Police_count', 'app_ORGANIZATION_TYPE_Postal_count', 'app_ORGANIZATION_TYPE_Realtor_count', 'app_ORGANIZATION_TYPE_Religion_count', 'app_ORGANIZATION_TYPE_Restaurant_count', 'app_ORGANIZATION_TYPE_School_count', 'app_ORGANIZATION_TYPE_Security Ministries_count', 'app_ORGANIZATION_TYPE_Security_count', 'app_ORGANIZATION_TYPE_Self-employed_count', 'app_ORGANIZATION_TYPE_Services_count', 'app_ORGANIZATION_TYPE_Telecom_count', 'app_ORGANIZATION_TYPE_Trade: type 1_count', 'app_ORGANIZATION_TYPE_Trade: type 2_count', 'app_ORGANIZATION_TYPE_Trade: type 3_count', 'app_ORGANIZATION_TYPE_Trade: type 4_count', 'app_ORGANIZATION_TYPE_Trade: type 5_count', 'app_ORGANIZATION_TYPE_Trade: type 6_count', 'app_ORGANIZATION_TYPE_Trade: type 7_count', 'app_ORGANIZATION_TYPE_Transport: type 1_count', 'app_ORGANIZATION_TYPE_Transport: type 2_count', 'app_ORGANIZATION_TYPE_Transport: type 3_count', 'app_ORGANIZATION_TYPE_Transport: type 4_count', 'app_ORGANIZATION_TYPE_University_count', 'app_ORGANIZATION_TYPE_XNA_count', 'app_WALLSMATERIAL_MODE_Block_count', 'app_WALLSMATERIAL_MODE_Mixed_count', 'app_WALLSMATERIAL_MODE_Monolithic_count', 'app_WALLSMATERIAL_MODE_Others_count', 'app_WALLSMATERIAL_MODE_Panel_count', 'app_WALLSMATERIAL_MODE_Stone, brick_count', 'app_WALLSMATERIAL_MODE_Wooden_count', 'app_WEEKDAY_APPR_PROCESS_START_FRIDAY_count', 'app_WEEKDAY_APPR_PROCESS_START_MONDAY_count', 'app_WEEKDAY_APPR_PROCESS_START_SATURDAY_count', 'app_WEEKDAY_APPR_PROCESS_START_SUNDAY_count', 'app_WEEKDAY_APPR_PROCESS_START_THURSDAY_count', 'app_WEEKDAY_APPR_PROCESS_START_TUESDAY_count', 'app_WEEKDAY_APPR_PROCESS_START_WEDNESDAY_count']],\n",
       "           codes=[[13, 6, 8, 53, 10, 9, 3, 40, 45, 0, 1, 2, 7, 44, 43, 5, 4, 38, 62, 61, 192, 11, 39, 187, 193, 191, 188, 127, 103, 12, 78, 47, 46, 189, 65, 112, 164, 98, 80, 185, 96, 49, 67, 118, 35, 57, 41, 77, 84, 90, 60, 190, 59, 184, 28, 155, 48, 79, 76, 107, 114, 108, 55, 126, 102, 88, 129, 73, 173, 51, 66, 133, 85, 54, 120, 33, 152, 125, 110, 42, 177, 106, 180, 82, 87, 186, 161, 71, 93, 63, 105, 70, 142, 169, 150, 31, 74, 115, 64, 113, 30, 97, 104, 163, 137, 123, 135, 50, 148, 75, 160, 175, 176, 101, 181, 157, 121, 58, 140, 116, 86, 21, 23, 143, 68, 146, 183, 124, 168]])"
      ]
     },
     "execution_count": 15,
     "metadata": {},
     "output_type": "execute_result"
    }
   ],
   "source": [
    "importancescores = pd.DataFrame(model.feature_importances_,index=train_x.columns)\n",
    "\n",
    "importancescores=importancescores.sort_values(by=0,ascending=False)\n",
    "importancescores463=importancescores[importancescores.values>.001]\n",
    "importancescores463.index"
   ]
  },
  {
   "cell_type": "code",
   "execution_count": 16,
   "metadata": {},
   "outputs": [],
   "source": [
    "bestandimportantfeatures=bestscores600.index & importancescores463.index"
   ]
  },
  {
   "cell_type": "code",
   "execution_count": 17,
   "metadata": {},
   "outputs": [
    {
     "name": "stdout",
     "output_type": "stream",
     "text": [
      "110 features\n"
     ]
    },
    {
     "data": {
      "text/plain": [
       "MultiIndex(levels=[['AMT_ANNUITY', 'AMT_CREDIT', 'AMT_GOODS_PRICE', 'CNT_CHILDREN', 'CNT_FAM_MEMBERS', 'DAYS_BIRTH', 'DAYS_EMPLOYED', 'DAYS_ID_PUBLISH', 'DAYS_LAST_PHONE_CHANGE', 'DAYS_REGISTRATION', 'DEF_30_CNT_SOCIAL_CIRCLE', 'DEF_60_CNT_SOCIAL_CIRCLE', 'EXT_SOURCE_2', 'FLAG_DOCUMENT_16', 'FLAG_DOCUMENT_18', 'FLAG_DOCUMENT_3', 'FLAG_DOCUMENT_6', 'FLAG_DOCUMENT_8', 'FLAG_PHONE', 'FLAG_WORK_PHONE', 'HOUR_APPR_PROCESS_START', 'LIVE_CITY_NOT_WORK_CITY', 'LIVE_REGION_NOT_WORK_REGION', 'REGION_POPULATION_RELATIVE', 'REGION_RATING_CLIENT', 'REGION_RATING_CLIENT_W_CITY', 'REG_CITY_NOT_LIVE_CITY', 'REG_CITY_NOT_WORK_CITY', 'REG_REGION_NOT_LIVE_REGION', 'REG_REGION_NOT_WORK_REGION', 'app_CODE_GENDER_F_count', 'app_CODE_GENDER_M_count', 'app_EMERGENCYSTATE_MODE_No_count', 'app_EMERGENCYSTATE_MODE_Yes_count', 'app_FLAG_OWN_CAR_N_count', 'app_FLAG_OWN_CAR_Y_count', 'app_FLAG_OWN_REALTY_N_count', 'app_FLAG_OWN_REALTY_Y_count', 'app_FONDKAPREMONT_MODE_not specified_count', 'app_FONDKAPREMONT_MODE_org spec account_count', 'app_FONDKAPREMONT_MODE_reg oper account_count', 'app_FONDKAPREMONT_MODE_reg oper spec account_count', 'app_HOUSETYPE_MODE_block of flats_count', 'app_HOUSETYPE_MODE_specific housing_count', 'app_NAME_CONTRACT_TYPE_Cash loans_count', 'app_NAME_CONTRACT_TYPE_Revolving loans_count', 'app_NAME_EDUCATION_TYPE_Higher education_count', 'app_NAME_EDUCATION_TYPE_Incomplete higher_count', 'app_NAME_EDUCATION_TYPE_Lower secondary_count', 'app_NAME_EDUCATION_TYPE_Secondary / secondary special_count', 'app_NAME_FAMILY_STATUS_Civil marriage_count', 'app_NAME_FAMILY_STATUS_Married_count', 'app_NAME_FAMILY_STATUS_Single / not married_count', 'app_NAME_FAMILY_STATUS_Widow_count', 'app_NAME_HOUSING_TYPE_House / apartment_count', 'app_NAME_HOUSING_TYPE_Municipal apartment_count', 'app_NAME_HOUSING_TYPE_Office apartment_count', 'app_NAME_HOUSING_TYPE_Rented apartment_count', 'app_NAME_HOUSING_TYPE_With parents_count', 'app_NAME_INCOME_TYPE_Commercial associate_count', 'app_NAME_INCOME_TYPE_State servant_count', 'app_NAME_INCOME_TYPE_Working_count', 'app_NAME_TYPE_SUITE_Children_count', 'app_NAME_TYPE_SUITE_Family_count', 'app_NAME_TYPE_SUITE_Other_B_count', 'app_NAME_TYPE_SUITE_Unaccompanied_count', 'app_OCCUPATION_TYPE_Accountants_count', 'app_OCCUPATION_TYPE_Cleaning staff_count', 'app_OCCUPATION_TYPE_Cooking staff_count', 'app_OCCUPATION_TYPE_Core staff_count', 'app_OCCUPATION_TYPE_Drivers_count', 'app_OCCUPATION_TYPE_High skill tech staff_count', 'app_OCCUPATION_TYPE_Laborers_count', 'app_OCCUPATION_TYPE_Low-skill Laborers_count', 'app_OCCUPATION_TYPE_Managers_count', 'app_OCCUPATION_TYPE_Medicine staff_count', 'app_OCCUPATION_TYPE_Private service staff_count', 'app_OCCUPATION_TYPE_Sales staff_count', 'app_OCCUPATION_TYPE_Security staff_count', 'app_OCCUPATION_TYPE_Waiters/barmen staff_count', 'app_ORGANIZATION_TYPE_Agriculture_count', 'app_ORGANIZATION_TYPE_Bank_count', 'app_ORGANIZATION_TYPE_Business Entity Type 2_count', 'app_ORGANIZATION_TYPE_Business Entity Type 3_count', 'app_ORGANIZATION_TYPE_Construction_count', 'app_ORGANIZATION_TYPE_Government_count', 'app_ORGANIZATION_TYPE_Industry: type 11_count', 'app_ORGANIZATION_TYPE_Industry: type 1_count', 'app_ORGANIZATION_TYPE_Industry: type 3_count', 'app_ORGANIZATION_TYPE_Industry: type 4_count', 'app_ORGANIZATION_TYPE_Industry: type 9_count', 'app_ORGANIZATION_TYPE_Kindergarten_count', 'app_ORGANIZATION_TYPE_Medicine_count', 'app_ORGANIZATION_TYPE_Other_count', 'app_ORGANIZATION_TYPE_Restaurant_count', 'app_ORGANIZATION_TYPE_School_count', 'app_ORGANIZATION_TYPE_Security_count', 'app_ORGANIZATION_TYPE_Self-employed_count', 'app_ORGANIZATION_TYPE_Trade: type 2_count', 'app_ORGANIZATION_TYPE_Trade: type 3_count', 'app_ORGANIZATION_TYPE_Trade: type 7_count', 'app_ORGANIZATION_TYPE_Transport: type 3_count', 'app_ORGANIZATION_TYPE_Transport: type 4_count', 'app_WALLSMATERIAL_MODE_Block_count', 'app_WALLSMATERIAL_MODE_Panel_count', 'app_WALLSMATERIAL_MODE_Stone, brick_count', 'app_WALLSMATERIAL_MODE_Wooden_count', 'app_WEEKDAY_APPR_PROCESS_START_MONDAY_count', 'app_WEEKDAY_APPR_PROCESS_START_SATURDAY_count', 'app_WEEKDAY_APPR_PROCESS_START_TUESDAY_count']],\n",
       "           codes=[[28, 107, 81, 41, 74, 33, 38, 65, 103, 2, 6, 56, 78, 69, 102, 18, 68, 47, 14, 44, 20, 60, 108, 17, 32, 30, 13, 27, 9, 52, 50, 49, 67, 55, 3, 70, 109, 36, 84, 31, 79, 80, 21, 35, 97, 98, 92, 24, 93, 75, 16, 58, 23, 51, 96, 8, 25, 105, 7, 76, 5, 104, 19, 82, 72, 26, 100, 89, 40, 4, 0, 57, 99, 83, 106, 11, 66, 10, 64, 62, 54, 43, 46, 15, 101, 48, 73, 1, 39, 42, 71, 86, 88, 45, 61, 77, 34, 37, 94, 90, 87, 53, 29, 63, 59, 91, 22, 95, 12, 85]],\n",
       "           sortorder=0)"
      ]
     },
     "execution_count": 17,
     "metadata": {},
     "output_type": "execute_result"
    }
   ],
   "source": [
    "print(len(bestandimportantfeatures), 'features')\n",
    "bestandimportantfeatures"
   ]
  },
  {
   "cell_type": "code",
   "execution_count": 25,
   "metadata": {},
   "outputs": [],
   "source": [
    "names=[]\n",
    "for x in bestandimportantfeatures.values:\n",
    "    names.append(x[0])"
   ]
  },
  {
   "cell_type": "code",
   "execution_count": 19,
   "metadata": {},
   "outputs": [],
   "source": [
    "x_train = df[names].values\n",
    "\n",
    "y_train = data['TARGET'].values\n",
    "#y_train = pd.DataFrame(y_train)"
   ]
  },
  {
   "cell_type": "code",
   "execution_count": 20,
   "metadata": {},
   "outputs": [],
   "source": [
    "# test\n",
    "data1 = pd.read_csv(\"/Volumes/GoogleDrive/共享云端硬盘/Predictive Analytics Project/test.csv\")\n",
    "#datacount1=data1.count()\n",
    "#data1=data1.drop(list(datacount1[datacount1<300000].index),axis=1)\n",
    "test = data1[names]\n",
    "test = test.fillna(test.mean())\n",
    "from sklearn import preprocessing\n",
    "min_max_scaler = preprocessing.MinMaxScaler()\n",
    "x_scaled = min_max_scaler.fit_transform(test)\n",
    "test = pd.DataFrame(x_scaled)"
   ]
  },
  {
   "cell_type": "code",
   "execution_count": 21,
   "metadata": {},
   "outputs": [],
   "source": [
    "import lightgbm \n",
    "from lightgbm import *"
   ]
  },
  {
   "cell_type": "code",
   "execution_count": 22,
   "metadata": {},
   "outputs": [],
   "source": [
    "# Simple Bayesian Optimization for LightGBM\n",
    "import pandas as pd\n",
    "import numpy as np\n",
    "import warnings\n",
    "import time\n",
    "warnings.filterwarnings(\"ignore\")\n",
    "import lightgbm as lgb\n",
    "import BayesianOptimization\n",
    "from sklearn.metrics import roc_auc_score"
   ]
  },
  {
   "cell_type": "code",
   "execution_count": 48,
   "metadata": {},
   "outputs": [
    {
     "ename": "TypeError",
     "evalue": "'module' object is not callable",
     "output_type": "error",
     "traceback": [
      "\u001b[0;31m---------------------------------------------------------------------------\u001b[0m",
      "\u001b[0;31mTypeError\u001b[0m                                 Traceback (most recent call last)",
      "\u001b[0;32m<ipython-input-48-54bfa516bc32>\u001b[0m in \u001b[0;36m<module>\u001b[0;34m\u001b[0m\n\u001b[1;32m     34\u001b[0m     \u001b[0;32mreturn\u001b[0m \u001b[0mlgbBO\u001b[0m\u001b[0;34m.\u001b[0m\u001b[0mres\u001b[0m\u001b[0;34m[\u001b[0m\u001b[0;34m'max'\u001b[0m\u001b[0;34m]\u001b[0m\u001b[0;34m[\u001b[0m\u001b[0;34m'max_params'\u001b[0m\u001b[0;34m]\u001b[0m\u001b[0;34m\u001b[0m\u001b[0;34m\u001b[0m\u001b[0m\n\u001b[1;32m     35\u001b[0m \u001b[0;34m\u001b[0m\u001b[0m\n\u001b[0;32m---> 36\u001b[0;31m \u001b[0mopt_params\u001b[0m \u001b[0;34m=\u001b[0m \u001b[0mbayes_parameter_opt_lgb\u001b[0m\u001b[0;34m(\u001b[0m\u001b[0mx_train\u001b[0m\u001b[0;34m,\u001b[0m \u001b[0my_train\u001b[0m\u001b[0;34m,\u001b[0m \u001b[0minit_round\u001b[0m\u001b[0;34m=\u001b[0m\u001b[0;36m5\u001b[0m\u001b[0;34m,\u001b[0m \u001b[0mopt_round\u001b[0m\u001b[0;34m=\u001b[0m\u001b[0;36m10\u001b[0m\u001b[0;34m,\u001b[0m \u001b[0mn_folds\u001b[0m\u001b[0;34m=\u001b[0m\u001b[0;36m3\u001b[0m\u001b[0;34m,\u001b[0m \u001b[0mrandom_seed\u001b[0m\u001b[0;34m=\u001b[0m\u001b[0;36m6\u001b[0m\u001b[0;34m,\u001b[0m \u001b[0mn_estimators\u001b[0m\u001b[0;34m=\u001b[0m\u001b[0;36m10000\u001b[0m\u001b[0;34m,\u001b[0m \u001b[0mlearning_rate\u001b[0m\u001b[0;34m=\u001b[0m\u001b[0;36m0.2\u001b[0m\u001b[0;34m)\u001b[0m\u001b[0;34m\u001b[0m\u001b[0;34m\u001b[0m\u001b[0m\n\u001b[0m",
      "\u001b[0;32m<ipython-input-48-54bfa516bc32>\u001b[0m in \u001b[0;36mbayes_parameter_opt_lgb\u001b[0;34m(x_train, y_train, init_round, opt_round, n_folds, random_seed, n_estimators, learning_rate, output_process)\u001b[0m\n\u001b[1;32m     23\u001b[0m                                             \u001b[0;34m'reg_lambda'\u001b[0m\u001b[0;34m:\u001b[0m \u001b[0;34m(\u001b[0m\u001b[0;36m0.001\u001b[0m\u001b[0;34m,\u001b[0m \u001b[0;36m0.1\u001b[0m\u001b[0;34m)\u001b[0m\u001b[0;34m,\u001b[0m\u001b[0;34m\u001b[0m\u001b[0;34m\u001b[0m\u001b[0m\n\u001b[1;32m     24\u001b[0m                                             \u001b[0;34m'min_split_gain'\u001b[0m\u001b[0;34m:\u001b[0m \u001b[0;34m(\u001b[0m\u001b[0;36m0.001\u001b[0m\u001b[0;34m,\u001b[0m \u001b[0;36m0.1\u001b[0m\u001b[0;34m)\u001b[0m\u001b[0;34m,\u001b[0m\u001b[0;34m\u001b[0m\u001b[0;34m\u001b[0m\u001b[0m\n\u001b[0;32m---> 25\u001b[0;31m                                             'min_child_weight': (5, 50)}, random_state=0)\n\u001b[0m\u001b[1;32m     26\u001b[0m \u001b[0;34m\u001b[0m\u001b[0m\n\u001b[1;32m     27\u001b[0m     \u001b[0;31m# optimize\u001b[0m\u001b[0;34m\u001b[0m\u001b[0;34m\u001b[0m\u001b[0;34m\u001b[0m\u001b[0m\n",
      "\u001b[0;31mTypeError\u001b[0m: 'module' object is not callable"
     ]
    }
   ],
   "source": [
    "def bayes_parameter_opt_lgb(x_train, y_train, init_round=15, opt_round=25, n_folds=5, random_seed=6, n_estimators=10000, learning_rate=0.05, output_process=False):\n",
    "    # prepare data\n",
    "    train_data = lgb.Dataset(data=x_train, label=y_train)\n",
    "    # parameters\n",
    "    def lgb_eval(num_leaves, colsample_bytree, subsample, max_depth, reg_alpha, reg_lambda, min_split_gain, min_child_weight):\n",
    "        params = {'nthread': 4, 'n_estimators': n_estimators, 'learning_rate': learning_rate, 'silent':-1, 'verbose':-1}\n",
    "        params['num_leaves'] = int(round(num_leaves))\n",
    "        params['colsample_bytree'] = colsample_bytree\n",
    "        params['subsample'] = subsample\n",
    "        params['max_depth'] = int(round(max_depth))\n",
    "        params['reg_alpha'] = min_split_gain\n",
    "        params['reg_lambda'] = reg_lambda\n",
    "        params['min_split_gain'] = min_split_gain\n",
    "        params['min_child_weight'] = min_child_weight\n",
    "        cv_result = lgb.cv(params, train_data, nfold=n_folds, seed=random_seed, stratified=True, verbose_eval =200, metrics=['auc'])\n",
    "        return max(cv_result['auc-mean'])\n",
    "    # range \n",
    "    lgbBO = BayesianOptimization(lgb_eval, {'num_leaves': (25, 45),\n",
    "                                            'colsample_bytree': (0.6, 1),\n",
    "                                            'subsample': (0.7, 1),\n",
    "                                            'max_depth': (2, 10),\n",
    "                                            'reg_alpha': (0.001, 0.1),\n",
    "                                            'reg_lambda': (0.001, 0.1),\n",
    "                                            'min_split_gain': (0.001, 0.1), \n",
    "                                            'min_child_weight': (5, 50)}, random_state=0)\n",
    "    \n",
    "    # optimize\n",
    "    lgbBO.maximize(init_points=init_round, n_iter=opt_round)\n",
    "    \n",
    "    # output optimization process\n",
    "    if output_process==True: lgbBO.points_to_csv(\"bayes_opt_result.csv\")\n",
    "    \n",
    "    # return best parameters\n",
    "    return lgbBO.res['max']['max_params']\n",
    "\n",
    "opt_params = bayes_parameter_opt_lgb(x_train, y_train, init_round=5, opt_round=10, n_folds=3, random_seed=6, n_estimators=10000, learning_rate=0.2)"
   ]
  },
  {
   "cell_type": "code",
   "execution_count": null,
   "metadata": {},
   "outputs": [],
   "source": [
    "print(opt_params)"
   ]
  },
  {
   "cell_type": "code",
   "execution_count": 23,
   "metadata": {},
   "outputs": [
    {
     "data": {
      "text/plain": [
       "LGBMClassifier(boosting_type='gbdt', class_weight=None,\n",
       "               colsample_bytree=0.9497036, importance_type='split',\n",
       "               learning_rate=0.02, max_depth=8, min_child_samples=20,\n",
       "               min_child_weight=40, min_split_gain=0.0222415,\n",
       "               n_estimators=10000, n_jobs=-1, nthread=4, num_leaves=32,\n",
       "               objective=None, random_state=None, reg_alpha=0.04,\n",
       "               reg_lambda=0.073, silent=-1, subsample=0.8715623,\n",
       "               subsample_for_bin=200000, subsample_freq=0, verbose=-1)"
      ]
     },
     "execution_count": 23,
     "metadata": {},
     "output_type": "execute_result"
    }
   ],
   "source": [
    "lgb = LGBMClassifier(\n",
    "    nthread=4,\n",
    "    #is_unbalance=True,\n",
    "    n_estimators=10000,\n",
    "    learning_rate=0.02,\n",
    "    num_leaves=32,\n",
    "    colsample_bytree=0.9497036,\n",
    "    subsample=0.8715623,\n",
    "    max_depth=8,\n",
    "    reg_alpha=0.04,\n",
    "    reg_lambda=0.073,\n",
    "    min_split_gain=0.0222415,\n",
    "    min_child_weight=40,\n",
    "    silent=-1,\n",
    "    verbose=-1,\n",
    "    #scale_pos_weight=11\n",
    "    )\n",
    "\n",
    "lgb.fit(x_train, y_train)\n",
    "#lgb_pred = lgb.predict(xtest_scaled)\n",
    "#lgb_pred_proba = lgb.predict_proba(xtest_scaled)evaluate_model(ytest, lgb_pred, lgb_pred_proba)"
   ]
  },
  {
   "cell_type": "code",
   "execution_count": 50,
   "metadata": {},
   "outputs": [],
   "source": [
    "def evaluate_model(ytest, ypred, ypred_proba = None):\n",
    "    if ypred_proba is not None:\n",
    "        print('ROC-AUC score of the model:   {}'.format(roc_auc_score(ytest, ypred_proba[:, 1])))\n",
    "    print('Accuracy of the model: {}\\n'.format(accuracy_score(ytest, ypred)))\n",
    "    print('Classification report: \\n{}\\n'.format(classification_report(ytest, ypred)))\n",
    "    print('Confusion matrix: \\n{}\\n'.format(confusion_matrix(ytest, ypred)))"
   ]
  },
  {
   "cell_type": "code",
   "execution_count": 51,
   "metadata": {},
   "outputs": [
    {
     "name": "stdout",
     "output_type": "stream",
     "text": [
      "\n",
      "cv: 0\n",
      "\n",
      "ROC-AUC score of the model:   0.7104881876230581\n",
      "Accuracy of the model: 0.9193223204994797\n",
      "\n",
      "Classification report: \n",
      "              precision    recall  f1-score   support\n",
      "\n",
      "         0.0       0.92      1.00      0.96     28269\n",
      "         1.0       0.51      0.02      0.04      2483\n",
      "\n",
      "    accuracy                           0.92     30752\n",
      "   macro avg       0.72      0.51      0.50     30752\n",
      "weighted avg       0.89      0.92      0.88     30752\n",
      "\n",
      "\n",
      "Confusion matrix: \n",
      "[[28216    53]\n",
      " [ 2428    55]]\n",
      "\n",
      "\n",
      "cv: 1\n",
      "\n",
      "ROC-AUC score of the model:   0.7132522091892419\n",
      "Accuracy of the model: 0.9187695109261186\n",
      "\n",
      "Classification report: \n",
      "              precision    recall  f1-score   support\n",
      "\n",
      "         0.0       0.92      1.00      0.96     28269\n",
      "         1.0       0.44      0.02      0.04      2483\n",
      "\n",
      "    accuracy                           0.92     30752\n",
      "   macro avg       0.68      0.51      0.50     30752\n",
      "weighted avg       0.88      0.92      0.88     30752\n",
      "\n",
      "\n",
      "Confusion matrix: \n",
      "[[28198    71]\n",
      " [ 2427    56]]\n",
      "\n",
      "\n",
      "cv: 2\n",
      "\n",
      "ROC-AUC score of the model:   0.7158232028592119\n",
      "Accuracy of the model: 0.9182817377731529\n",
      "\n",
      "Classification report: \n",
      "              precision    recall  f1-score   support\n",
      "\n",
      "         0.0       0.92      1.00      0.96     28269\n",
      "         1.0       0.38      0.02      0.04      2483\n",
      "\n",
      "    accuracy                           0.92     30752\n",
      "   macro avg       0.65      0.51      0.50     30752\n",
      "weighted avg       0.88      0.92      0.88     30752\n",
      "\n",
      "\n",
      "Confusion matrix: \n",
      "[[28191    78]\n",
      " [ 2435    48]]\n",
      "\n",
      "\n",
      "cv: 3\n",
      "\n",
      "ROC-AUC score of the model:   0.7073606342222233\n",
      "Accuracy of the model: 0.918379292403746\n",
      "\n",
      "Classification report: \n",
      "              precision    recall  f1-score   support\n",
      "\n",
      "         0.0       0.92      1.00      0.96     28269\n",
      "         1.0       0.39      0.02      0.04      2483\n",
      "\n",
      "    accuracy                           0.92     30752\n",
      "   macro avg       0.65      0.51      0.50     30752\n",
      "weighted avg       0.88      0.92      0.88     30752\n",
      "\n",
      "\n",
      "Confusion matrix: \n",
      "[[28196    73]\n",
      " [ 2437    46]]\n",
      "\n",
      "\n",
      "cv: 4\n",
      "\n",
      "ROC-AUC score of the model:   0.7111956906383265\n",
      "Accuracy of the model: 0.9184768470343392\n",
      "\n",
      "Classification report: \n",
      "              precision    recall  f1-score   support\n",
      "\n",
      "         0.0       0.92      1.00      0.96     28269\n",
      "         1.0       0.39      0.02      0.03      2483\n",
      "\n",
      "    accuracy                           0.92     30752\n",
      "   macro avg       0.66      0.51      0.50     30752\n",
      "weighted avg       0.88      0.92      0.88     30752\n",
      "\n",
      "\n",
      "Confusion matrix: \n",
      "[[28200    69]\n",
      " [ 2438    45]]\n",
      "\n",
      "\n",
      "cv: 5\n",
      "\n",
      "ROC-AUC score of the model:   0.7067046019749996\n",
      "Accuracy of the model: 0.9181815225521122\n",
      "\n",
      "Classification report: \n",
      "              precision    recall  f1-score   support\n",
      "\n",
      "         0.0       0.92      1.00      0.96     28269\n",
      "         1.0       0.38      0.02      0.04      2482\n",
      "\n",
      "    accuracy                           0.92     30751\n",
      "   macro avg       0.65      0.51      0.50     30751\n",
      "weighted avg       0.88      0.92      0.88     30751\n",
      "\n",
      "\n",
      "Confusion matrix: \n",
      "[[28179    90]\n",
      " [ 2426    56]]\n",
      "\n",
      "\n",
      "cv: 6\n",
      "\n",
      "ROC-AUC score of the model:   0.7130825030640877\n",
      "Accuracy of the model: 0.9186666666666666\n",
      "\n",
      "Classification report: \n",
      "              precision    recall  f1-score   support\n",
      "\n",
      "         0.0       0.92      1.00      0.96     28268\n",
      "         1.0       0.43      0.02      0.05      2482\n",
      "\n",
      "    accuracy                           0.92     30750\n",
      "   macro avg       0.68      0.51      0.50     30750\n",
      "weighted avg       0.88      0.92      0.88     30750\n",
      "\n",
      "\n",
      "Confusion matrix: \n",
      "[[28187    81]\n",
      " [ 2420    62]]\n",
      "\n",
      "\n",
      "cv: 7\n",
      "\n",
      "ROC-AUC score of the model:   0.7095933226660853\n",
      "Accuracy of the model: 0.9187967479674797\n",
      "\n",
      "Classification report: \n",
      "              precision    recall  f1-score   support\n",
      "\n",
      "         0.0       0.92      1.00      0.96     28268\n",
      "         1.0       0.44      0.02      0.04      2482\n",
      "\n",
      "    accuracy                           0.92     30750\n",
      "   macro avg       0.68      0.51      0.50     30750\n",
      "weighted avg       0.88      0.92      0.88     30750\n",
      "\n",
      "\n",
      "Confusion matrix: \n",
      "[[28202    66]\n",
      " [ 2431    51]]\n",
      "\n",
      "\n",
      "cv: 8\n",
      "\n",
      "ROC-AUC score of the model:   0.7090806744744416\n",
      "Accuracy of the model: 0.919479674796748\n",
      "\n",
      "Classification report: \n",
      "              precision    recall  f1-score   support\n",
      "\n",
      "         0.0       0.92      1.00      0.96     28268\n",
      "         1.0       0.53      0.02      0.05      2482\n",
      "\n",
      "    accuracy                           0.92     30750\n",
      "   macro avg       0.72      0.51      0.50     30750\n",
      "weighted avg       0.89      0.92      0.88     30750\n",
      "\n",
      "\n",
      "Confusion matrix: \n",
      "[[28213    55]\n",
      " [ 2421    61]]\n",
      "\n",
      "\n",
      "cv: 9\n",
      "\n",
      "ROC-AUC score of the model:   0.7023271958839459\n",
      "Accuracy of the model: 0.9184390243902439\n",
      "\n",
      "Classification report: \n",
      "              precision    recall  f1-score   support\n",
      "\n",
      "         0.0       0.92      1.00      0.96     28268\n",
      "         1.0       0.40      0.02      0.04      2482\n",
      "\n",
      "    accuracy                           0.92     30750\n",
      "   macro avg       0.66      0.51      0.50     30750\n",
      "weighted avg       0.88      0.92      0.88     30750\n",
      "\n",
      "\n",
      "Confusion matrix: \n",
      "[[28191    77]\n",
      " [ 2431    51]]\n",
      "\n"
     ]
    }
   ],
   "source": [
    "folds = list(StratifiedKFold(10, shuffle=True, random_state=2016)\\\n",
    "             .split(x_train, y_train))\n",
    "for i, (train_idx, valid_idx) in enumerate(folds):\n",
    "    \n",
    "    ytrain = np.array(y_train)\n",
    "    X_train = x_train[train_idx]\n",
    "    Y_train = ytrain[train_idx]\n",
    "    X_valid = x_train[valid_idx]\n",
    "    Y_valid = ytrain[valid_idx]\n",
    "    \n",
    "    lgb.fit(X_train, Y_train)\n",
    "    pred = lgb.predict(X_valid)\n",
    "    pred_proba = lgb.predict_proba(X_valid)\n",
    "    \n",
    "    print('\\ncv: {}\\n'.format(i))\n",
    "    evaluate_model(Y_valid, pred, pred_proba)"
   ]
  },
  {
   "cell_type": "code",
   "execution_count": 33,
   "metadata": {},
   "outputs": [],
   "source": [
    "y_pred_proba = lgb.predict_proba(test)\n",
    "y_pred_proba = y_pred_proba.clip(min=0.005, max=0.995)"
   ]
  },
  {
   "cell_type": "code",
   "execution_count": 36,
   "metadata": {},
   "outputs": [],
   "source": [
    "sample_submit = pd.read_csv('/Users/fbzhan/Desktop/sample_submission.csv')\n",
    "sample_submit['TARGET'] = 1 - y_pred_proba"
   ]
  },
  {
   "cell_type": "code",
   "execution_count": 37,
   "metadata": {},
   "outputs": [
    {
     "data": {
      "text/html": [
       "<div>\n",
       "<style scoped>\n",
       "    .dataframe tbody tr th:only-of-type {\n",
       "        vertical-align: middle;\n",
       "    }\n",
       "\n",
       "    .dataframe tbody tr th {\n",
       "        vertical-align: top;\n",
       "    }\n",
       "\n",
       "    .dataframe thead th {\n",
       "        text-align: right;\n",
       "    }\n",
       "</style>\n",
       "<table border=\"1\" class=\"dataframe\">\n",
       "  <thead>\n",
       "    <tr style=\"text-align: right;\">\n",
       "      <th></th>\n",
       "      <th>SK_ID_CURR</th>\n",
       "      <th>TARGET</th>\n",
       "    </tr>\n",
       "  </thead>\n",
       "  <tbody>\n",
       "    <tr>\n",
       "      <th>0</th>\n",
       "      <td>100001</td>\n",
       "      <td>0.042666</td>\n",
       "    </tr>\n",
       "    <tr>\n",
       "      <th>1</th>\n",
       "      <td>100005</td>\n",
       "      <td>0.146127</td>\n",
       "    </tr>\n",
       "    <tr>\n",
       "      <th>2</th>\n",
       "      <td>100013</td>\n",
       "      <td>0.049695</td>\n",
       "    </tr>\n",
       "    <tr>\n",
       "      <th>3</th>\n",
       "      <td>100028</td>\n",
       "      <td>0.055769</td>\n",
       "    </tr>\n",
       "    <tr>\n",
       "      <th>4</th>\n",
       "      <td>100038</td>\n",
       "      <td>0.020945</td>\n",
       "    </tr>\n",
       "    <tr>\n",
       "      <th>5</th>\n",
       "      <td>100042</td>\n",
       "      <td>0.005000</td>\n",
       "    </tr>\n",
       "    <tr>\n",
       "      <th>6</th>\n",
       "      <td>100057</td>\n",
       "      <td>0.032237</td>\n",
       "    </tr>\n",
       "    <tr>\n",
       "      <th>7</th>\n",
       "      <td>100065</td>\n",
       "      <td>0.027100</td>\n",
       "    </tr>\n",
       "    <tr>\n",
       "      <th>8</th>\n",
       "      <td>100066</td>\n",
       "      <td>0.008300</td>\n",
       "    </tr>\n",
       "    <tr>\n",
       "      <th>9</th>\n",
       "      <td>100067</td>\n",
       "      <td>0.011504</td>\n",
       "    </tr>\n",
       "  </tbody>\n",
       "</table>\n",
       "</div>"
      ],
      "text/plain": [
       "   SK_ID_CURR    TARGET\n",
       "0      100001  0.042666\n",
       "1      100005  0.146127\n",
       "2      100013  0.049695\n",
       "3      100028  0.055769\n",
       "4      100038  0.020945\n",
       "5      100042  0.005000\n",
       "6      100057  0.032237\n",
       "7      100065  0.027100\n",
       "8      100066  0.008300\n",
       "9      100067  0.011504"
      ]
     },
     "execution_count": 37,
     "metadata": {},
     "output_type": "execute_result"
    }
   ],
   "source": [
    "sample_submit.to_csv('predict.csv', index=None)\n",
    "sample_submit.head(10)"
   ]
  },
  {
   "cell_type": "code",
   "execution_count": null,
   "metadata": {},
   "outputs": [],
   "source": []
  }
 ],
 "metadata": {
  "kernelspec": {
   "display_name": "Python 3",
   "language": "python",
   "name": "python3"
  },
  "language_info": {
   "codemirror_mode": {
    "name": "ipython",
    "version": 3
   },
   "file_extension": ".py",
   "mimetype": "text/x-python",
   "name": "python",
   "nbconvert_exporter": "python",
   "pygments_lexer": "ipython3",
   "version": "3.7.3"
  }
 },
 "nbformat": 4,
 "nbformat_minor": 2
}
